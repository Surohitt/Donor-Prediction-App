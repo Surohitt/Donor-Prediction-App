{
 "cells": [
  {
   "cell_type": "markdown",
   "metadata": {},
   "source": [
    "# Project Introduction \n",
    "\n",
    "This project presents a hypothetical problem where I must identify potential major donors to a charity. Studies have found that donors making more than 50,000 USD annually have the potential to be major donors. Your task is to use machine learning algorithms to help identify individuals with an annual income of 50,000 USD or more.\n",
    "\n",
    "This notebook will contain the initial data analysis as well as the machine learning algorithm development process. The optimal algorithm will than be used in a web app so that customers may input their parameters in order to return a prediction as to whether an individual is likely to be a potential donor or not. \n",
    "\n",
    "### Table of Contents:\n",
    "- [Loading in the Data](#Load)\n",
    "- [Data Exploration (EDA)](#Explore)\n",
    "- [Data Cleaning/Preprocessing](#Clean)\n",
    "- [Model Testing and Development (ETL)](#Test)\n",
    "- [Model Evaluation](#Eval)\n",
    "- [Model Export](#Export)\n",
    "\n"
   ]
  },
  {
   "cell_type": "markdown",
   "metadata": {},
   "source": [
    "<a id=\"Load\"></a>\n",
    "### Loading in the Data\n",
    "\n",
    "This section includes the basic loading phase of our training and testing data. "
   ]
  },
  {
   "cell_type": "code",
   "execution_count": 1,
   "metadata": {},
   "outputs": [],
   "source": [
    "# Importing basic libraries for data analytics \n",
    "import numpy as np\n",
    "import pandas as pd\n",
    "\n",
    "# Libraries for visualisations\n",
    "import matplotlib.pyplot as plt\n",
    "import seaborn as sb\n",
    "from scipy.stats import norm\n",
    "import scipy \n",
    "import matplotlib.mlab as mlab\n",
    "%matplotlib inline\n",
    "\n",
    "# Import supplementary visualization code visuals.py\n",
    "import visuals as vs\n",
    "\n",
    "# Used for tracking model training and testing time\n",
    "from time import time\n",
    "\n",
    "# Importing 'GridSearchCV', 'make_scorer', and any other necessary libraries\n",
    "from sklearn.metrics import make_scorer\n",
    "from sklearn.model_selection import GridSearchCV\n",
    "\n",
    "# Import sklearn.preprocessing.StandardScaler for feature scaling\n",
    "from sklearn.preprocessing import MinMaxScaler\n",
    "# Import train_test_split\n",
    "from sklearn.model_selection import train_test_split\n",
    "# Import two metrics from sklearn - fbeta_score and accuracy_score\n",
    "from sklearn.metrics import fbeta_score, accuracy_score\n",
    "# Importing Precision function\n",
    "from sklearn.metrics import precision_score, recall_score\n",
    "\n",
    "\n",
    "# Importing the three supervised learning models from sklearn\n",
    "from sklearn.svm import LinearSVC, SVC\n",
    "from sklearn.ensemble import AdaBoostClassifier \n",
    "from sklearn.ensemble import RandomForestClassifier\n",
    "from sklearn.tree import DecisionTreeClassifier\n",
    "\n",
    "# Confusion matrix\n",
    "from sklearn.metrics import confusion_matrix\n",
    "\n",
    "# Importing pickle to help with model saving and loading\n",
    "import pickle"
   ]
  },
  {
   "cell_type": "code",
   "execution_count": 2,
   "metadata": {},
   "outputs": [],
   "source": [
    "# List of column names to pass to the read_csv function\n",
    "col_names = ['age','workclass','fnlwgt','education','education_years','marital_status','occupation','relationship','race',\n",
    "         'sex','capital_gain','capital_loss','hours_worked_per_week','native_country','income']"
   ]
  },
  {
   "cell_type": "code",
   "execution_count": 3,
   "metadata": {},
   "outputs": [],
   "source": [
    "# Loading in our training data\n",
    "data = pd.read_csv('adultdata', names=col_names)"
   ]
  },
  {
   "cell_type": "code",
   "execution_count": 4,
   "metadata": {},
   "outputs": [
    {
     "data": {
      "text/plain": [
       "(32561, 15)"
      ]
     },
     "execution_count": 4,
     "metadata": {},
     "output_type": "execute_result"
    }
   ],
   "source": [
    "# Checking the size of our data set\n",
    "data.shape"
   ]
  },
  {
   "cell_type": "code",
   "execution_count": 5,
   "metadata": {},
   "outputs": [
    {
     "data": {
      "text/html": [
       "<div>\n",
       "<style scoped>\n",
       "    .dataframe tbody tr th:only-of-type {\n",
       "        vertical-align: middle;\n",
       "    }\n",
       "\n",
       "    .dataframe tbody tr th {\n",
       "        vertical-align: top;\n",
       "    }\n",
       "\n",
       "    .dataframe thead th {\n",
       "        text-align: right;\n",
       "    }\n",
       "</style>\n",
       "<table border=\"1\" class=\"dataframe\">\n",
       "  <thead>\n",
       "    <tr style=\"text-align: right;\">\n",
       "      <th></th>\n",
       "      <th>age</th>\n",
       "      <th>workclass</th>\n",
       "      <th>fnlwgt</th>\n",
       "      <th>education</th>\n",
       "      <th>education_years</th>\n",
       "      <th>marital_status</th>\n",
       "      <th>occupation</th>\n",
       "      <th>relationship</th>\n",
       "      <th>race</th>\n",
       "      <th>sex</th>\n",
       "      <th>capital_gain</th>\n",
       "      <th>capital_loss</th>\n",
       "      <th>hours_worked_per_week</th>\n",
       "      <th>native_country</th>\n",
       "      <th>income</th>\n",
       "    </tr>\n",
       "  </thead>\n",
       "  <tbody>\n",
       "    <tr>\n",
       "      <th>0</th>\n",
       "      <td>39</td>\n",
       "      <td>State-gov</td>\n",
       "      <td>77516</td>\n",
       "      <td>Bachelors</td>\n",
       "      <td>13</td>\n",
       "      <td>Never-married</td>\n",
       "      <td>Adm-clerical</td>\n",
       "      <td>Not-in-family</td>\n",
       "      <td>White</td>\n",
       "      <td>Male</td>\n",
       "      <td>2174</td>\n",
       "      <td>0</td>\n",
       "      <td>40</td>\n",
       "      <td>United-States</td>\n",
       "      <td>&lt;=50K</td>\n",
       "    </tr>\n",
       "    <tr>\n",
       "      <th>1</th>\n",
       "      <td>50</td>\n",
       "      <td>Self-emp-not-inc</td>\n",
       "      <td>83311</td>\n",
       "      <td>Bachelors</td>\n",
       "      <td>13</td>\n",
       "      <td>Married-civ-spouse</td>\n",
       "      <td>Exec-managerial</td>\n",
       "      <td>Husband</td>\n",
       "      <td>White</td>\n",
       "      <td>Male</td>\n",
       "      <td>0</td>\n",
       "      <td>0</td>\n",
       "      <td>13</td>\n",
       "      <td>United-States</td>\n",
       "      <td>&lt;=50K</td>\n",
       "    </tr>\n",
       "    <tr>\n",
       "      <th>2</th>\n",
       "      <td>38</td>\n",
       "      <td>Private</td>\n",
       "      <td>215646</td>\n",
       "      <td>HS-grad</td>\n",
       "      <td>9</td>\n",
       "      <td>Divorced</td>\n",
       "      <td>Handlers-cleaners</td>\n",
       "      <td>Not-in-family</td>\n",
       "      <td>White</td>\n",
       "      <td>Male</td>\n",
       "      <td>0</td>\n",
       "      <td>0</td>\n",
       "      <td>40</td>\n",
       "      <td>United-States</td>\n",
       "      <td>&lt;=50K</td>\n",
       "    </tr>\n",
       "    <tr>\n",
       "      <th>3</th>\n",
       "      <td>53</td>\n",
       "      <td>Private</td>\n",
       "      <td>234721</td>\n",
       "      <td>11th</td>\n",
       "      <td>7</td>\n",
       "      <td>Married-civ-spouse</td>\n",
       "      <td>Handlers-cleaners</td>\n",
       "      <td>Husband</td>\n",
       "      <td>Black</td>\n",
       "      <td>Male</td>\n",
       "      <td>0</td>\n",
       "      <td>0</td>\n",
       "      <td>40</td>\n",
       "      <td>United-States</td>\n",
       "      <td>&lt;=50K</td>\n",
       "    </tr>\n",
       "    <tr>\n",
       "      <th>4</th>\n",
       "      <td>28</td>\n",
       "      <td>Private</td>\n",
       "      <td>338409</td>\n",
       "      <td>Bachelors</td>\n",
       "      <td>13</td>\n",
       "      <td>Married-civ-spouse</td>\n",
       "      <td>Prof-specialty</td>\n",
       "      <td>Wife</td>\n",
       "      <td>Black</td>\n",
       "      <td>Female</td>\n",
       "      <td>0</td>\n",
       "      <td>0</td>\n",
       "      <td>40</td>\n",
       "      <td>Cuba</td>\n",
       "      <td>&lt;=50K</td>\n",
       "    </tr>\n",
       "  </tbody>\n",
       "</table>\n",
       "</div>"
      ],
      "text/plain": [
       "   age          workclass  fnlwgt   education  education_years  \\\n",
       "0   39          State-gov   77516   Bachelors               13   \n",
       "1   50   Self-emp-not-inc   83311   Bachelors               13   \n",
       "2   38            Private  215646     HS-grad                9   \n",
       "3   53            Private  234721        11th                7   \n",
       "4   28            Private  338409   Bachelors               13   \n",
       "\n",
       "        marital_status          occupation    relationship    race      sex  \\\n",
       "0        Never-married        Adm-clerical   Not-in-family   White     Male   \n",
       "1   Married-civ-spouse     Exec-managerial         Husband   White     Male   \n",
       "2             Divorced   Handlers-cleaners   Not-in-family   White     Male   \n",
       "3   Married-civ-spouse   Handlers-cleaners         Husband   Black     Male   \n",
       "4   Married-civ-spouse      Prof-specialty            Wife   Black   Female   \n",
       "\n",
       "   capital_gain  capital_loss  hours_worked_per_week  native_country  income  \n",
       "0          2174             0                     40   United-States   <=50K  \n",
       "1             0             0                     13   United-States   <=50K  \n",
       "2             0             0                     40   United-States   <=50K  \n",
       "3             0             0                     40   United-States   <=50K  \n",
       "4             0             0                     40            Cuba   <=50K  "
      ]
     },
     "execution_count": 5,
     "metadata": {},
     "output_type": "execute_result"
    }
   ],
   "source": [
    "# A quick visual check\n",
    "data.head()"
   ]
  },
  {
   "cell_type": "code",
   "execution_count": 6,
   "metadata": {},
   "outputs": [],
   "source": [
    "# Loading in the testing data \n",
    "data_test = pd.read_csv('adulttest', names=col_names, skiprows=1)"
   ]
  },
  {
   "cell_type": "code",
   "execution_count": 7,
   "metadata": {},
   "outputs": [
    {
     "data": {
      "text/html": [
       "<div>\n",
       "<style scoped>\n",
       "    .dataframe tbody tr th:only-of-type {\n",
       "        vertical-align: middle;\n",
       "    }\n",
       "\n",
       "    .dataframe tbody tr th {\n",
       "        vertical-align: top;\n",
       "    }\n",
       "\n",
       "    .dataframe thead th {\n",
       "        text-align: right;\n",
       "    }\n",
       "</style>\n",
       "<table border=\"1\" class=\"dataframe\">\n",
       "  <thead>\n",
       "    <tr style=\"text-align: right;\">\n",
       "      <th></th>\n",
       "      <th>age</th>\n",
       "      <th>workclass</th>\n",
       "      <th>fnlwgt</th>\n",
       "      <th>education</th>\n",
       "      <th>education_years</th>\n",
       "      <th>marital_status</th>\n",
       "      <th>occupation</th>\n",
       "      <th>relationship</th>\n",
       "      <th>race</th>\n",
       "      <th>sex</th>\n",
       "      <th>capital_gain</th>\n",
       "      <th>capital_loss</th>\n",
       "      <th>hours_worked_per_week</th>\n",
       "      <th>native_country</th>\n",
       "      <th>income</th>\n",
       "    </tr>\n",
       "  </thead>\n",
       "  <tbody>\n",
       "    <tr>\n",
       "      <th>0</th>\n",
       "      <td>25</td>\n",
       "      <td>Private</td>\n",
       "      <td>226802</td>\n",
       "      <td>11th</td>\n",
       "      <td>7</td>\n",
       "      <td>Never-married</td>\n",
       "      <td>Machine-op-inspct</td>\n",
       "      <td>Own-child</td>\n",
       "      <td>Black</td>\n",
       "      <td>Male</td>\n",
       "      <td>0</td>\n",
       "      <td>0</td>\n",
       "      <td>40</td>\n",
       "      <td>United-States</td>\n",
       "      <td>&lt;=50K.</td>\n",
       "    </tr>\n",
       "    <tr>\n",
       "      <th>1</th>\n",
       "      <td>38</td>\n",
       "      <td>Private</td>\n",
       "      <td>89814</td>\n",
       "      <td>HS-grad</td>\n",
       "      <td>9</td>\n",
       "      <td>Married-civ-spouse</td>\n",
       "      <td>Farming-fishing</td>\n",
       "      <td>Husband</td>\n",
       "      <td>White</td>\n",
       "      <td>Male</td>\n",
       "      <td>0</td>\n",
       "      <td>0</td>\n",
       "      <td>50</td>\n",
       "      <td>United-States</td>\n",
       "      <td>&lt;=50K.</td>\n",
       "    </tr>\n",
       "    <tr>\n",
       "      <th>2</th>\n",
       "      <td>28</td>\n",
       "      <td>Local-gov</td>\n",
       "      <td>336951</td>\n",
       "      <td>Assoc-acdm</td>\n",
       "      <td>12</td>\n",
       "      <td>Married-civ-spouse</td>\n",
       "      <td>Protective-serv</td>\n",
       "      <td>Husband</td>\n",
       "      <td>White</td>\n",
       "      <td>Male</td>\n",
       "      <td>0</td>\n",
       "      <td>0</td>\n",
       "      <td>40</td>\n",
       "      <td>United-States</td>\n",
       "      <td>&gt;50K.</td>\n",
       "    </tr>\n",
       "    <tr>\n",
       "      <th>3</th>\n",
       "      <td>44</td>\n",
       "      <td>Private</td>\n",
       "      <td>160323</td>\n",
       "      <td>Some-college</td>\n",
       "      <td>10</td>\n",
       "      <td>Married-civ-spouse</td>\n",
       "      <td>Machine-op-inspct</td>\n",
       "      <td>Husband</td>\n",
       "      <td>Black</td>\n",
       "      <td>Male</td>\n",
       "      <td>7688</td>\n",
       "      <td>0</td>\n",
       "      <td>40</td>\n",
       "      <td>United-States</td>\n",
       "      <td>&gt;50K.</td>\n",
       "    </tr>\n",
       "    <tr>\n",
       "      <th>4</th>\n",
       "      <td>18</td>\n",
       "      <td>?</td>\n",
       "      <td>103497</td>\n",
       "      <td>Some-college</td>\n",
       "      <td>10</td>\n",
       "      <td>Never-married</td>\n",
       "      <td>?</td>\n",
       "      <td>Own-child</td>\n",
       "      <td>White</td>\n",
       "      <td>Female</td>\n",
       "      <td>0</td>\n",
       "      <td>0</td>\n",
       "      <td>30</td>\n",
       "      <td>United-States</td>\n",
       "      <td>&lt;=50K.</td>\n",
       "    </tr>\n",
       "  </tbody>\n",
       "</table>\n",
       "</div>"
      ],
      "text/plain": [
       "   age   workclass  fnlwgt      education  education_years  \\\n",
       "0   25     Private  226802           11th                7   \n",
       "1   38     Private   89814        HS-grad                9   \n",
       "2   28   Local-gov  336951     Assoc-acdm               12   \n",
       "3   44     Private  160323   Some-college               10   \n",
       "4   18           ?  103497   Some-college               10   \n",
       "\n",
       "        marital_status          occupation relationship    race      sex  \\\n",
       "0        Never-married   Machine-op-inspct    Own-child   Black     Male   \n",
       "1   Married-civ-spouse     Farming-fishing      Husband   White     Male   \n",
       "2   Married-civ-spouse     Protective-serv      Husband   White     Male   \n",
       "3   Married-civ-spouse   Machine-op-inspct      Husband   Black     Male   \n",
       "4        Never-married                   ?    Own-child   White   Female   \n",
       "\n",
       "   capital_gain  capital_loss  hours_worked_per_week  native_country   income  \n",
       "0             0             0                     40   United-States   <=50K.  \n",
       "1             0             0                     50   United-States   <=50K.  \n",
       "2             0             0                     40   United-States    >50K.  \n",
       "3          7688             0                     40   United-States    >50K.  \n",
       "4             0             0                     30   United-States   <=50K.  "
      ]
     },
     "execution_count": 7,
     "metadata": {},
     "output_type": "execute_result"
    }
   ],
   "source": [
    "# Quick visual check \n",
    "data_test.head()"
   ]
  },
  {
   "cell_type": "code",
   "execution_count": 8,
   "metadata": {},
   "outputs": [
    {
     "data": {
      "text/plain": [
       "(16281, 15)"
      ]
     },
     "execution_count": 8,
     "metadata": {},
     "output_type": "execute_result"
    }
   ],
   "source": [
    "# Number of rows should be about 1/3rd\n",
    "data_test.shape"
   ]
  },
  {
   "cell_type": "code",
   "execution_count": 9,
   "metadata": {},
   "outputs": [
    {
     "name": "stdout",
     "output_type": "stream",
     "text": [
      "Seems like we loaded in our data correctly!\n"
     ]
    }
   ],
   "source": [
    "# Checking our number of rows and columns are correct\n",
    "assert round(data.shape[0]/data_test.shape[0]) == 2\n",
    "assert data.shape[1] == data_test.shape[1]\n",
    "print('Seems like we loaded in our data correctly!')"
   ]
  },
  {
   "cell_type": "markdown",
   "metadata": {},
   "source": [
    "<a id=\"Explore\"></a>\n",
    "### Data Exploration\n",
    "\n",
    "Some of the key things we will want to analyze in our data will be:\n",
    "- Distribution of Continuous and Categorical Features\n",
    "- Missing Values \n",
    "- Checking for Colinearity in our predictors"
   ]
  },
  {
   "cell_type": "code",
   "execution_count": 10,
   "metadata": {},
   "outputs": [
    {
     "data": {
      "text/plain": [
       "age                      0\n",
       "workclass                0\n",
       "fnlwgt                   0\n",
       "education                0\n",
       "education_years          0\n",
       "marital_status           0\n",
       "occupation               0\n",
       "relationship             0\n",
       "race                     0\n",
       "sex                      0\n",
       "capital_gain             0\n",
       "capital_loss             0\n",
       "hours_worked_per_week    0\n",
       "native_country           0\n",
       "income                   0\n",
       "dtype: int64"
      ]
     },
     "execution_count": 10,
     "metadata": {},
     "output_type": "execute_result"
    }
   ],
   "source": [
    "# Checking for missing data\n",
    "data.isna().sum()"
   ]
  },
  {
   "cell_type": "markdown",
   "metadata": {},
   "source": [
    "- An unusual but very welcomed sight. No missing values or corrupt data!"
   ]
  },
  {
   "cell_type": "code",
   "execution_count": 11,
   "metadata": {},
   "outputs": [
    {
     "data": {
      "text/plain": [
       "age                       int64\n",
       "workclass                object\n",
       "fnlwgt                    int64\n",
       "education                object\n",
       "education_years           int64\n",
       "marital_status           object\n",
       "occupation               object\n",
       "relationship             object\n",
       "race                     object\n",
       "sex                      object\n",
       "capital_gain              int64\n",
       "capital_loss              int64\n",
       "hours_worked_per_week     int64\n",
       "native_country           object\n",
       "income                   object\n",
       "dtype: object"
      ]
     },
     "execution_count": 11,
     "metadata": {},
     "output_type": "execute_result"
    }
   ],
   "source": [
    "# Checking our data types\n",
    "data.dtypes"
   ]
  },
  {
   "cell_type": "code",
   "execution_count": 12,
   "metadata": {},
   "outputs": [],
   "source": [
    "def plot_bar(data, label):\n",
    "    '''\n",
    "    INPUT:\n",
    "    data - (object) Continuous array of categorical data \n",
    "    label - (str) Label for y-axis and title\n",
    "    \n",
    "    OUTPUT:\n",
    "    plt - Bar chart of the feature and its values\n",
    "\n",
    "    Description:\n",
    "    Returns a bar chart of the data and passes a visualisation as well as the mean and standard deviation. \n",
    "    '''\n",
    "    plt.bar(list(data.value_counts().index), list(data.value_counts()), facecolor = 'orange', alpha=0.75)\n",
    "    #n, bins, patches = plt.hist(data, 20, density=1, facecolor='green', alpha=0.75)\n",
    "    #y = scipy.stats.norm.pdf( bins, mu, sigma)\n",
    "    \n",
    "    \n",
    "    plt.xticks(rotation='vertical')\n",
    "    plt.grid(True)\n",
    "    plt.title('Bar chart of {}:'.format(label))\n",
    "    plt.ylabel('Count');\n",
    "\n",
    "    return plt"
   ]
  },
  {
   "cell_type": "code",
   "execution_count": 13,
   "metadata": {},
   "outputs": [],
   "source": [
    "# List of categorical features\n",
    "cat_feats = list(data.dtypes[data.dtypes == 'object'].index)"
   ]
  },
  {
   "cell_type": "code",
   "execution_count": 14,
   "metadata": {},
   "outputs": [
    {
     "data": {
      "image/png": "[encoded data removed]",
      "text/plain": [
       "<Figure size 432x288 with 1 Axes>"
      ]
     },
     "metadata": {
      "needs_background": "light"
     },
     "output_type": "display_data"
    },
    {
     "data": {
      "image/png": "[encoded data removed]",
      "text/plain": [
       "<Figure size 432x288 with 1 Axes>"
      ]
     },
     "metadata": {
      "needs_background": "light"
     },
     "output_type": "display_data"
    },
    {
     "data": {
      "image/png": "[encoded data removed]",
      "text/plain": [
       "<Figure size 432x288 with 1 Axes>"
      ]
     },
     "metadata": {
      "needs_background": "light"
     },
     "output_type": "display_data"
    },
    {
     "data": {
      "image/png": "[encoded data removed]",
      "text/plain": [
       "<Figure size 432x288 with 1 Axes>"
      ]
     },
     "metadata": {
      "needs_background": "light"
     },
     "output_type": "display_data"
    },
    {
     "data": {
      "image/png": "[encoded data removed]",
      "text/plain": [
       "<Figure size 432x288 with 1 Axes>"
      ]
     },
     "metadata": {
      "needs_background": "light"
     },
     "output_type": "display_data"
    },
    {
     "data": {
      "image/png": "[encoded data removed]",
      "text/plain": [
       "<Figure size 432x288 with 1 Axes>"
      ]
     },
     "metadata": {
      "needs_background": "light"
     },
     "output_type": "display_data"
    },
    {
     "data": {
      "image/png": "[encoded data removed]",
      "text/plain": [
       "<Figure size 432x288 with 1 Axes>"
      ]
     },
     "metadata": {
      "needs_background": "light"
     },
     "output_type": "display_data"
    },
    {
     "data": {
      "image/png": "[encoded data removed]",
      "text/plain": [
       "<Figure size 432x288 with 1 Axes>"
      ]
     },
     "metadata": {
      "needs_background": "light"
     },
     "output_type": "display_data"
    },
    {
     "data": {
      "image/png": "[encoded data removed]",
      "text/plain": [
       "<Figure size 432x288 with 1 Axes>"
      ]
     },
     "metadata": {
      "needs_background": "light"
     },
     "output_type": "display_data"
    }
   ],
   "source": [
    "for cat in cat_feats:\n",
    "    plt.subplot(1,1,1)\n",
    "    plot_bar(data[cat], cat)\n",
    "    plt.show()"
   ]
  },
  {
   "cell_type": "markdown",
   "metadata": {},
   "source": [
    "So it seems we do infact have some missing data. It would be best to understand the magnitude of the issue by understanding the percentage of the data set that has missing data and how many total data points exist with a ' ?' placeholder in order to understand how to best deal with the missing data points (imputation / removal). \n",
    "- ? in workclass\n",
    "- ? in occupation\n",
    "- ? in native country\n"
   ]
  },
  {
   "cell_type": "code",
   "execution_count": 15,
   "metadata": {},
   "outputs": [
    {
     "name": "stdout",
     "output_type": "stream",
     "text": [
      " ?    1836\n",
      "Name: workclass, dtype: int64\n",
      " ?    1843\n",
      "Name: occupation, dtype: int64\n",
      " ?    583\n",
      "Name: native_country, dtype: int64\n"
     ]
    }
   ],
   "source": [
    "# Having a look at our missing data in each column\n",
    "print(data.workclass.value_counts()[data.workclass.value_counts().index == ' ?'])\n",
    "print(data.occupation.value_counts()[data.occupation.value_counts().index == ' ?'])\n",
    "print(data.native_country.value_counts()[data.native_country.value_counts().index == ' ?'])"
   ]
  },
  {
   "cell_type": "code",
   "execution_count": 16,
   "metadata": {},
   "outputs": [
    {
     "data": {
      "text/plain": [
       "4262"
      ]
     },
     "execution_count": 16,
     "metadata": {},
     "output_type": "execute_result"
    }
   ],
   "source": [
    "# Number of ' ?'/ missing data points in our data frame\n",
    "data.isin([' ?']).sum(axis=0).sum()"
   ]
  },
  {
   "cell_type": "code",
   "execution_count": 17,
   "metadata": {},
   "outputs": [
    {
     "name": "stdout",
     "output_type": "stream",
     "text": [
      "Our dataset contains 2399 missing rows which is a 7.37% of our dataset\n"
     ]
    }
   ],
   "source": [
    "# Number of rows with missing data \n",
    "num_rows = (data.isin([' ?']).sum(axis=1) > 0).sum()\n",
    "print('Our dataset contains {} missing rows which is a {:.2f}% of our dataset'.format(num_rows, 100*num_rows/data.shape[0]))"
   ]
  },
  {
   "cell_type": "code",
   "execution_count": 18,
   "metadata": {},
   "outputs": [
    {
     "name": "stdout",
     "output_type": "stream",
     "text": [
      "Our dataset contains 1221 missing rows which is a 3.75% of our test dataset\n"
     ]
    }
   ],
   "source": [
    "# Number of rows with '?''s in our testing data set\n",
    "num_rows_test = (data_test.isin([' ?']).sum(axis=1) > 0).sum()\n",
    "print('Our dataset contains {} missing rows which is a {:.2f}% of our test dataset'.format(num_rows_test, 100*num_rows_test/data.shape[0]))\n"
   ]
  },
  {
   "cell_type": "markdown",
   "metadata": {},
   "source": [
    "For the sake of model performace I will **remove the unknown values** as we are looking to predict individuals incomes based on concrete inputes. \n",
    "\n",
    "While it may be useful to have a model that can handle unknowns and predict whether or not an individual has more than USD 50,000 , I believe the information loss of trying to predict on unknowns will be too high for a model to predict without a large level of bias. "
   ]
  },
  {
   "cell_type": "markdown",
   "metadata": {},
   "source": [
    "A few takeaways:\n",
    "The majority of people seem to fall into the *following classes*:\n",
    "- Working in the private sector\n",
    "- At least a high-school grad with the majority having some level of higher level education (college/masters)\n",
    "- Fairly spread across married/not married with a few divorcées\n",
    "- Fairly spread in occupation\n",
    "- Seems to be a prodominately white-male-american sample of the global population\n",
    "- Most seem to make less than 50,000\n",
    "    \n",
    "\n"
   ]
  },
  {
   "cell_type": "code",
   "execution_count": 19,
   "metadata": {},
   "outputs": [],
   "source": [
    "def plot_hist(data, label):\n",
    "    '''\n",
    "    INPUT:\n",
    "    data - (int) Continuous array of data\n",
    "    label - (str) Label for x-axis and title\n",
    "    \n",
    "    OUTPUT:\n",
    "    plt - Histogram\n",
    "    mu - Mean of the array \n",
    "    sigma - Standard deviation of the array \n",
    "    \n",
    "    \n",
    "    \n",
    "    Description:\n",
    "    Computes the histogram of the data and passes a visualisation as well as the mean and standard deviation. \n",
    "    '''\n",
    "\n",
    "\n",
    "    # best fit of data\n",
    "    (mu, sigma) = norm.fit(data)\n",
    "    \n",
    "    n, bins, patches = plt.hist(data, 20, density=1, facecolor='green', alpha=0.75)\n",
    "    y = scipy.stats.norm.pdf( bins, mu, sigma)\n",
    "    plt.plot(bins, y, 'r--', linewidth=2)\n",
    "    plt.grid(True)\n",
    "    plt.axvline(mu, label = 'Mean', color = 'black')\n",
    "    plt.axvline(np.median(data), label = \"Median\", color = 'orange')\n",
    "    plt.xlabel('{}'.format(label))\n",
    "    plt.ylabel('Frequency')\n",
    "    plt.title('Histogram of {}: $\\mu = {:.3}$, $\\sigma = {:.3}$'.format(label, mu, sigma))\n",
    "    plt.grid(True)\n",
    "    plt.legend()\n",
    "              \n",
    "    return plt, mu, sigma"
   ]
  },
  {
   "cell_type": "code",
   "execution_count": 20,
   "metadata": {},
   "outputs": [],
   "source": [
    "# list of all continuous features\n",
    "cont_feat = list(data.dtypes[data.dtypes == 'int64'].index)"
   ]
  },
  {
   "cell_type": "code",
   "execution_count": 21,
   "metadata": {},
   "outputs": [
    {
     "data": {
      "image/png": "[encoded data removed]",
      "text/plain": [
       "<Figure size 432x288 with 1 Axes>"
      ]
     },
     "metadata": {
      "needs_background": "light"
     },
     "output_type": "display_data"
    },
    {
     "data": {
      "image/png": "[encoded data removed]",
      "text/plain": [
       "<Figure size 432x288 with 1 Axes>"
      ]
     },
     "metadata": {
      "needs_background": "light"
     },
     "output_type": "display_data"
    },
    {
     "data": {
      "image/png": "[encoded data removed]",
      "text/plain": [
       "<Figure size 432x288 with 1 Axes>"
      ]
     },
     "metadata": {
      "needs_background": "light"
     },
     "output_type": "display_data"
    },
    {
     "data": {
      "image/png": "[encoded data removed]",
      "text/plain": [
       "<Figure size 432x288 with 1 Axes>"
      ]
     },
     "metadata": {
      "needs_background": "light"
     },
     "output_type": "display_data"
    },
    {
     "data": {
      "image/png": "[encoded data removed]",
      "text/plain": [
       "<Figure size 432x288 with 1 Axes>"
      ]
     },
     "metadata": {
      "needs_background": "light"
     },
     "output_type": "display_data"
    },
    {
     "data": {
      "image/png": "[encoded data removed]",
      "text/plain": [
       "<Figure size 432x288 with 1 Axes>"
      ]
     },
     "metadata": {
      "needs_background": "light"
     },
     "output_type": "display_data"
    }
   ],
   "source": [
    "# Plotting the distribution for all of our continous features \n",
    "for feat in cont_feat:\n",
    "    plt.subplot(1,1,1)\n",
    "    plot_hist(data[feat], feat)\n",
    "    plt.show()"
   ]
  },
  {
   "cell_type": "markdown",
   "metadata": {},
   "source": [
    "- We definetly have some skewed distributions. Looking at the captial loss and capital gain columns' measure of spread it is clear are going to need to normalise these columns.\n",
    "- Also, fnlwgt seems to be skewed. However, I believe this column does not pertain any actual information on our population we're trying to model. For this reason its safe to say we can drop the column. "
   ]
  },
  {
   "cell_type": "code",
   "execution_count": 22,
   "metadata": {},
   "outputs": [
    {
     "data": {
      "text/html": [
       "<div>\n",
       "<style scoped>\n",
       "    .dataframe tbody tr th:only-of-type {\n",
       "        vertical-align: middle;\n",
       "    }\n",
       "\n",
       "    .dataframe tbody tr th {\n",
       "        vertical-align: top;\n",
       "    }\n",
       "\n",
       "    .dataframe thead th {\n",
       "        text-align: right;\n",
       "    }\n",
       "</style>\n",
       "<table border=\"1\" class=\"dataframe\">\n",
       "  <thead>\n",
       "    <tr style=\"text-align: right;\">\n",
       "      <th></th>\n",
       "      <th>age</th>\n",
       "      <th>fnlwgt</th>\n",
       "      <th>education_years</th>\n",
       "      <th>capital_gain</th>\n",
       "      <th>capital_loss</th>\n",
       "      <th>hours_worked_per_week</th>\n",
       "    </tr>\n",
       "  </thead>\n",
       "  <tbody>\n",
       "    <tr>\n",
       "      <th>age</th>\n",
       "      <td>1.000000</td>\n",
       "      <td>-0.076646</td>\n",
       "      <td>0.036527</td>\n",
       "      <td>0.077674</td>\n",
       "      <td>0.057775</td>\n",
       "      <td>0.068756</td>\n",
       "    </tr>\n",
       "    <tr>\n",
       "      <th>fnlwgt</th>\n",
       "      <td>-0.076646</td>\n",
       "      <td>1.000000</td>\n",
       "      <td>-0.043195</td>\n",
       "      <td>0.000432</td>\n",
       "      <td>-0.010252</td>\n",
       "      <td>-0.018768</td>\n",
       "    </tr>\n",
       "    <tr>\n",
       "      <th>education_years</th>\n",
       "      <td>0.036527</td>\n",
       "      <td>-0.043195</td>\n",
       "      <td>1.000000</td>\n",
       "      <td>0.122630</td>\n",
       "      <td>0.079923</td>\n",
       "      <td>0.148123</td>\n",
       "    </tr>\n",
       "    <tr>\n",
       "      <th>capital_gain</th>\n",
       "      <td>0.077674</td>\n",
       "      <td>0.000432</td>\n",
       "      <td>0.122630</td>\n",
       "      <td>1.000000</td>\n",
       "      <td>-0.031615</td>\n",
       "      <td>0.078409</td>\n",
       "    </tr>\n",
       "    <tr>\n",
       "      <th>capital_loss</th>\n",
       "      <td>0.057775</td>\n",
       "      <td>-0.010252</td>\n",
       "      <td>0.079923</td>\n",
       "      <td>-0.031615</td>\n",
       "      <td>1.000000</td>\n",
       "      <td>0.054256</td>\n",
       "    </tr>\n",
       "    <tr>\n",
       "      <th>hours_worked_per_week</th>\n",
       "      <td>0.068756</td>\n",
       "      <td>-0.018768</td>\n",
       "      <td>0.148123</td>\n",
       "      <td>0.078409</td>\n",
       "      <td>0.054256</td>\n",
       "      <td>1.000000</td>\n",
       "    </tr>\n",
       "  </tbody>\n",
       "</table>\n",
       "</div>"
      ],
      "text/plain": [
       "                            age    fnlwgt  education_years  capital_gain  \\\n",
       "age                    1.000000 -0.076646         0.036527      0.077674   \n",
       "fnlwgt                -0.076646  1.000000        -0.043195      0.000432   \n",
       "education_years        0.036527 -0.043195         1.000000      0.122630   \n",
       "capital_gain           0.077674  0.000432         0.122630      1.000000   \n",
       "capital_loss           0.057775 -0.010252         0.079923     -0.031615   \n",
       "hours_worked_per_week  0.068756 -0.018768         0.148123      0.078409   \n",
       "\n",
       "                       capital_loss  hours_worked_per_week  \n",
       "age                        0.057775               0.068756  \n",
       "fnlwgt                    -0.010252              -0.018768  \n",
       "education_years            0.079923               0.148123  \n",
       "capital_gain              -0.031615               0.078409  \n",
       "capital_loss               1.000000               0.054256  \n",
       "hours_worked_per_week      0.054256               1.000000  "
      ]
     },
     "execution_count": 22,
     "metadata": {},
     "output_type": "execute_result"
    }
   ],
   "source": [
    "# Observing continous data correlations\n",
    "data.corr()"
   ]
  },
  {
   "cell_type": "code",
   "execution_count": 23,
   "metadata": {},
   "outputs": [
    {
     "data": {
      "image/png": "[encoded data removed]",
      "text/plain": [
       "<Figure size 432x288 with 2 Axes>"
      ]
     },
     "metadata": {
      "needs_background": "light"
     },
     "output_type": "display_data"
    }
   ],
   "source": [
    "# Visualising the relationships using a pearsons correlation co-efficient method\n",
    "sb.heatmap(data.corr());"
   ]
  },
  {
   "cell_type": "markdown",
   "metadata": {},
   "source": [
    "The above may look worrying simply because it would be assumed we would want to find some sort of correlation within our data set. HOWEVER, it is important to note that what we actually want to observe correlations between our input features and **income** variable. \n",
    "\n",
    "The fact that none of our continuous features seem to display any collinearity is a **good thing**. It means we wont be inflating our models variance! \n",
    "\n",
    "Simply put, we're happy that none of our features relate to each other because we only want them to be related to our income column!"
   ]
  },
  {
   "cell_type": "code",
   "execution_count": 24,
   "metadata": {},
   "outputs": [],
   "source": [
    "# Calculating the number of individuals making more than and less than $50,000\n",
    "more_than_50 = data.income.value_counts()[1]\n",
    "less_than_50 = data.income.value_counts()[0]"
   ]
  },
  {
   "cell_type": "code",
   "execution_count": 25,
   "metadata": {},
   "outputs": [
    {
     "name": "stdout",
     "output_type": "stream",
     "text": [
      "The number of individuals making more than $50,000 is 7841 and less than $50,000 is 24720.\n",
      "\n",
      "The percentage of individuals making more than $50,000 is 24.08%.\n"
     ]
    }
   ],
   "source": [
    "# Printing the numbers \n",
    "print(\"The number of individuals making more than $50,000 is {} and less than $50,000 is {}.\".format(more_than_50, less_than_50))\n",
    "print(\"\\nThe percentage of individuals making more than $50,000 is {:.2f}%.\".format(100*more_than_50/(data.shape[0])))"
   ]
  },
  {
   "cell_type": "markdown",
   "metadata": {},
   "source": [
    "Below is a summary table of the number of people making more or less than 50,000:\n",
    "<table>\n",
    "<tr><th></th><th colspan = '4'>Number of people</th></tr>\n",
    "<tr><th rowspan = '1' colspan = '2'>Less than 50,000</th><td colspan ='2'>$24,720$</td></tr>\n",
    "<tr><th rowspan = '1' colspan = '2'>More than 50,000</th><td colspan ='2'>$7841$</td></tr>\n"
   ]
  },
  {
   "cell_type": "markdown",
   "metadata": {},
   "source": [
    "### Conclusion:\n",
    "\n",
    "#### Validity\n",
    "It seems we have a few minor preprocessing tasks to complete with this data however, more importantly, this exploration process has made a few things very clear about our data and the validity of a model rooted in it.\n",
    "\n",
    "We have a **time related validity** issue. This data was tabulated well over 20 years ago and naturally, it can be assumed there has been an evolution in terms of feature relavence for predicting income. Essentially, this comprimises our external validity.\n",
    "\n",
    "Secondly, our data set is heavily biased towards white, male, americans. It would not be best to try and assume our evaluation metrics would hold for a more diverse set of individuals. The model will likely have a reasonable high degree of bias due to the fact we are lacking in records of other genders, ethnicities and nationality. Again, another external validity issue. \n",
    "\n"
   ]
  },
  {
   "cell_type": "markdown",
   "metadata": {},
   "source": [
    "<a id =\"Clean\"></a>\n",
    "### Data Cleaning/Preprocessing\n",
    "\n",
    "So I have a few tasks set to complete in this stage of our analysis. \n",
    "\n",
    "1. **Remove** the fnlwgt column\n",
    "- **Remove columns with ?'s**\n",
    "- **Log-transform** skewed distributions \n",
    "- **Normalizing** our numerical data\n",
    "- **Splitting data into target and feature variables**\n",
    "- **One hot encode** non-numeric data\n",
    "\n",
    "We'll try and pipeline the cleaning process at the end of this section so we can directly apply it to our test data set for metric evaluation. \n",
    "Once these tasks are complete we can begin to fit models to our data and test based on particular evaluation metrics.\n",
    "\n",
    "#### Removing fnlwgt"
   ]
  },
  {
   "cell_type": "code",
   "execution_count": 26,
   "metadata": {},
   "outputs": [],
   "source": [
    "# Removing the fnlwgt column in one line\n",
    "data.drop(['fnlwgt'], axis = 1, inplace = True)"
   ]
  },
  {
   "cell_type": "code",
   "execution_count": 27,
   "metadata": {},
   "outputs": [
    {
     "name": "stdout",
     "output_type": "stream",
     "text": [
      "Seems the column was successfully removed, lets do a quick visual\n"
     ]
    },
    {
     "data": {
      "text/html": [
       "<div>\n",
       "<style scoped>\n",
       "    .dataframe tbody tr th:only-of-type {\n",
       "        vertical-align: middle;\n",
       "    }\n",
       "\n",
       "    .dataframe tbody tr th {\n",
       "        vertical-align: top;\n",
       "    }\n",
       "\n",
       "    .dataframe thead th {\n",
       "        text-align: right;\n",
       "    }\n",
       "</style>\n",
       "<table border=\"1\" class=\"dataframe\">\n",
       "  <thead>\n",
       "    <tr style=\"text-align: right;\">\n",
       "      <th></th>\n",
       "      <th>age</th>\n",
       "      <th>workclass</th>\n",
       "      <th>education</th>\n",
       "      <th>education_years</th>\n",
       "      <th>marital_status</th>\n",
       "      <th>occupation</th>\n",
       "      <th>relationship</th>\n",
       "      <th>race</th>\n",
       "      <th>sex</th>\n",
       "      <th>capital_gain</th>\n",
       "      <th>capital_loss</th>\n",
       "      <th>hours_worked_per_week</th>\n",
       "      <th>native_country</th>\n",
       "      <th>income</th>\n",
       "    </tr>\n",
       "  </thead>\n",
       "  <tbody>\n",
       "    <tr>\n",
       "      <th>0</th>\n",
       "      <td>39</td>\n",
       "      <td>State-gov</td>\n",
       "      <td>Bachelors</td>\n",
       "      <td>13</td>\n",
       "      <td>Never-married</td>\n",
       "      <td>Adm-clerical</td>\n",
       "      <td>Not-in-family</td>\n",
       "      <td>White</td>\n",
       "      <td>Male</td>\n",
       "      <td>2174</td>\n",
       "      <td>0</td>\n",
       "      <td>40</td>\n",
       "      <td>United-States</td>\n",
       "      <td>&lt;=50K</td>\n",
       "    </tr>\n",
       "    <tr>\n",
       "      <th>1</th>\n",
       "      <td>50</td>\n",
       "      <td>Self-emp-not-inc</td>\n",
       "      <td>Bachelors</td>\n",
       "      <td>13</td>\n",
       "      <td>Married-civ-spouse</td>\n",
       "      <td>Exec-managerial</td>\n",
       "      <td>Husband</td>\n",
       "      <td>White</td>\n",
       "      <td>Male</td>\n",
       "      <td>0</td>\n",
       "      <td>0</td>\n",
       "      <td>13</td>\n",
       "      <td>United-States</td>\n",
       "      <td>&lt;=50K</td>\n",
       "    </tr>\n",
       "    <tr>\n",
       "      <th>2</th>\n",
       "      <td>38</td>\n",
       "      <td>Private</td>\n",
       "      <td>HS-grad</td>\n",
       "      <td>9</td>\n",
       "      <td>Divorced</td>\n",
       "      <td>Handlers-cleaners</td>\n",
       "      <td>Not-in-family</td>\n",
       "      <td>White</td>\n",
       "      <td>Male</td>\n",
       "      <td>0</td>\n",
       "      <td>0</td>\n",
       "      <td>40</td>\n",
       "      <td>United-States</td>\n",
       "      <td>&lt;=50K</td>\n",
       "    </tr>\n",
       "    <tr>\n",
       "      <th>3</th>\n",
       "      <td>53</td>\n",
       "      <td>Private</td>\n",
       "      <td>11th</td>\n",
       "      <td>7</td>\n",
       "      <td>Married-civ-spouse</td>\n",
       "      <td>Handlers-cleaners</td>\n",
       "      <td>Husband</td>\n",
       "      <td>Black</td>\n",
       "      <td>Male</td>\n",
       "      <td>0</td>\n",
       "      <td>0</td>\n",
       "      <td>40</td>\n",
       "      <td>United-States</td>\n",
       "      <td>&lt;=50K</td>\n",
       "    </tr>\n",
       "    <tr>\n",
       "      <th>4</th>\n",
       "      <td>28</td>\n",
       "      <td>Private</td>\n",
       "      <td>Bachelors</td>\n",
       "      <td>13</td>\n",
       "      <td>Married-civ-spouse</td>\n",
       "      <td>Prof-specialty</td>\n",
       "      <td>Wife</td>\n",
       "      <td>Black</td>\n",
       "      <td>Female</td>\n",
       "      <td>0</td>\n",
       "      <td>0</td>\n",
       "      <td>40</td>\n",
       "      <td>Cuba</td>\n",
       "      <td>&lt;=50K</td>\n",
       "    </tr>\n",
       "  </tbody>\n",
       "</table>\n",
       "</div>"
      ],
      "text/plain": [
       "   age          workclass   education  education_years       marital_status  \\\n",
       "0   39          State-gov   Bachelors               13        Never-married   \n",
       "1   50   Self-emp-not-inc   Bachelors               13   Married-civ-spouse   \n",
       "2   38            Private     HS-grad                9             Divorced   \n",
       "3   53            Private        11th                7   Married-civ-spouse   \n",
       "4   28            Private   Bachelors               13   Married-civ-spouse   \n",
       "\n",
       "           occupation    relationship    race      sex  capital_gain  \\\n",
       "0        Adm-clerical   Not-in-family   White     Male          2174   \n",
       "1     Exec-managerial         Husband   White     Male             0   \n",
       "2   Handlers-cleaners   Not-in-family   White     Male             0   \n",
       "3   Handlers-cleaners         Husband   Black     Male             0   \n",
       "4      Prof-specialty            Wife   Black   Female             0   \n",
       "\n",
       "   capital_loss  hours_worked_per_week  native_country  income  \n",
       "0             0                     40   United-States   <=50K  \n",
       "1             0                     13   United-States   <=50K  \n",
       "2             0                     40   United-States   <=50K  \n",
       "3             0                     40   United-States   <=50K  \n",
       "4             0                     40            Cuba   <=50K  "
      ]
     },
     "execution_count": 27,
     "metadata": {},
     "output_type": "execute_result"
    }
   ],
   "source": [
    "# A few checks it worked\n",
    "assert data.shape[1] == 14\n",
    "assert 'fnlwgt' not in data.columns\n",
    "print('Seems the column was successfully removed, lets do a quick visual')\n",
    "# Visual Check\n",
    "data.head()"
   ]
  },
  {
   "cell_type": "code",
   "execution_count": 28,
   "metadata": {},
   "outputs": [
    {
     "data": {
      "text/plain": [
       "0     False\n",
       "1     False\n",
       "2     False\n",
       "3     False\n",
       "4     False\n",
       "5     False\n",
       "6     False\n",
       "7     False\n",
       "8     False\n",
       "9     False\n",
       "10    False\n",
       "11    False\n",
       "12    False\n",
       "13    False\n",
       "14     True\n",
       "15    False\n",
       "16    False\n",
       "17    False\n",
       "18    False\n",
       "19    False\n",
       "20    False\n",
       "21    False\n",
       "22    False\n",
       "23    False\n",
       "24    False\n",
       "25    False\n",
       "26    False\n",
       "27     True\n",
       "28    False\n",
       "29    False\n",
       "dtype: bool"
      ]
     },
     "execution_count": 28,
     "metadata": {},
     "output_type": "execute_result"
    }
   ],
   "source": [
    "# Checking the boolean array\n",
    "(data.isin([' ?']).sum(axis=1)>0)[0:30]"
   ]
  },
  {
   "cell_type": "code",
   "execution_count": 29,
   "metadata": {},
   "outputs": [
    {
     "name": "stderr",
     "output_type": "stream",
     "text": [
      "/anaconda3/lib/python3.7/site-packages/numpy/core/fromnumeric.py:51: FutureWarning: Series.nonzero() is deprecated and will be removed in a future version.Use Series.to_numpy().nonzero() instead\n",
      "  return getattr(obj, method)(*args, **kwds)\n"
     ]
    }
   ],
   "source": [
    "# indexing the ' ?' rows\n",
    "q_indx = np.nonzero(data.isin([' ?']).sum(axis=1)>0)[0]"
   ]
  },
  {
   "cell_type": "code",
   "execution_count": 30,
   "metadata": {},
   "outputs": [
    {
     "name": "stdout",
     "output_type": "stream",
     "text": [
      "We have correctly got 2399 number of rows\n"
     ]
    }
   ],
   "source": [
    "# Checking we have the right length in our index array\n",
    "assert q_indx.shape[0] == num_rows\n",
    "print(\"We have correctly got {} number of rows\".format(num_rows))"
   ]
  },
  {
   "cell_type": "code",
   "execution_count": 31,
   "metadata": {},
   "outputs": [
    {
     "name": "stdout",
     "output_type": "stream",
     "text": [
      "dropping the right number of rows\n"
     ]
    }
   ],
   "source": [
    "# Checking we are dropping the right rows\n",
    "assert data.drop(axis=0, index = q_indx).shape[0] == data.shape[0] - num_rows\n",
    "print(\"dropping the right number of rows\")"
   ]
  },
  {
   "cell_type": "code",
   "execution_count": 32,
   "metadata": {},
   "outputs": [],
   "source": [
    "# Storing the drop\n",
    "data.drop(axis=0, index = q_indx, inplace =True)"
   ]
  },
  {
   "cell_type": "markdown",
   "metadata": {},
   "source": [
    "#### Transforming skewed continuous data\n",
    "\n",
    "A dataset may sometimes contain at least one feature whose values tend to lie near a single number, but will also have a non-trivial number of vastly larger or smaller values than that single number. Algorithms can be sensitive to such distributions of values and can underperform if the range is not properly normalized. With the census dataset two features fit this description: 'capital_gain' and  'capital_loss'.\n",
    "\n",
    "For highly-skewed feature distributions, it is common practice to apply a logarithmic transformation on the data so that the very large and very small values do not negatively affect the performance of a learning algorithm. Using a *logarithmic transformation* significantly reduces the range of values caused by outliers. Care must be taken when applying this transformation however: The logarithm of 0 is undefined, so we must translate the values by a small amount above 0 to apply the the logarithm successfully.\n"
   ]
  },
  {
   "cell_type": "code",
   "execution_count": 33,
   "metadata": {},
   "outputs": [],
   "source": [
    "# creating a list of of column names\n",
    "skewed_cols = ['capital_gain','capital_loss']"
   ]
  },
  {
   "cell_type": "code",
   "execution_count": 34,
   "metadata": {
    "scrolled": true
   },
   "outputs": [],
   "source": [
    "# Log transforming the skewed features\n",
    "features_log_transformed = pd.DataFrame(data = data)\n",
    "features_log_transformed[skewed_cols] = data[skewed_cols].apply(lambda x: np.log(x + 1))"
   ]
  },
  {
   "cell_type": "code",
   "execution_count": 35,
   "metadata": {},
   "outputs": [
    {
     "data": {
      "image/png": "[encoded data removed]",
      "text/plain": [
       "<Figure size 432x288 with 1 Axes>"
      ]
     },
     "metadata": {
      "needs_background": "light"
     },
     "output_type": "display_data"
    },
    {
     "data": {
      "image/png": "[encoded data removed]",
      "text/plain": [
       "<Figure size 432x288 with 1 Axes>"
      ]
     },
     "metadata": {
      "needs_background": "light"
     },
     "output_type": "display_data"
    }
   ],
   "source": [
    "# Visualising our log transformed columns \n",
    "for col in skewed_cols:    \n",
    "    plt.subplot(1,1,1)\n",
    "    plot_hist(features_log_transformed[col], col)\n",
    "    plt.show()"
   ]
  },
  {
   "cell_type": "markdown",
   "metadata": {},
   "source": [
    "To appreciate what was done it might be best to focus on the standard deviation reduction as opposed to the visual (it really doesnt do it justice but this is a difficult concept to visualise). "
   ]
  },
  {
   "cell_type": "markdown",
   "metadata": {},
   "source": [
    "#### Normalizing the numerical data\n",
    "\n",
    "This is a very common process in machine learning algorithm development. \n",
    "\n",
    "Applying a scaling to the data does not change the shape of each feature's distribution however, normalization ensures that each feature is treated equally when applying supervised learners. Note that once scaling is applied, observing the data in its raw form will no longer have the same original meaning."
   ]
  },
  {
   "cell_type": "code",
   "execution_count": 36,
   "metadata": {},
   "outputs": [],
   "source": [
    "cont_feat.remove('fnlwgt')"
   ]
  },
  {
   "cell_type": "code",
   "execution_count": 37,
   "metadata": {},
   "outputs": [
    {
     "name": "stderr",
     "output_type": "stream",
     "text": [
      "/anaconda3/lib/python3.7/site-packages/sklearn/preprocessing/data.py:323: DataConversionWarning: Data with input dtype int64, float64 were all converted to float64 by MinMaxScaler.\n",
      "  return self.partial_fit(X, y)\n"
     ]
    }
   ],
   "source": [
    "# Initialize a scaler, then apply it to the features with a default of 0 -> 1\n",
    "scaler = MinMaxScaler()\n",
    "\n",
    "# Copying the dataframe over to a new one\n",
    "features_log_minmax_transform = features_log_transformed.copy()\n",
    "# Transforming our new dataframes continuous features\n",
    "fitted_scaler = scaler.fit(features_log_transformed[cont_feat])\n",
    "features_log_minmax_transform[cont_feat] = fitted_scaler.transform(features_log_transformed[cont_feat])"
   ]
  },
  {
   "cell_type": "markdown",
   "metadata": {},
   "source": [
    "**NOTE**: We can ignore the warning. Python is just kindly informing us that one of our columns were converted from an integer data type to a floating point data type. Totally A-okay.  "
   ]
  },
  {
   "cell_type": "code",
   "execution_count": 38,
   "metadata": {},
   "outputs": [
    {
     "data": {
      "text/html": [
       "<div>\n",
       "<style scoped>\n",
       "    .dataframe tbody tr th:only-of-type {\n",
       "        vertical-align: middle;\n",
       "    }\n",
       "\n",
       "    .dataframe tbody tr th {\n",
       "        vertical-align: top;\n",
       "    }\n",
       "\n",
       "    .dataframe thead th {\n",
       "        text-align: right;\n",
       "    }\n",
       "</style>\n",
       "<table border=\"1\" class=\"dataframe\">\n",
       "  <thead>\n",
       "    <tr style=\"text-align: right;\">\n",
       "      <th></th>\n",
       "      <th>age</th>\n",
       "      <th>workclass</th>\n",
       "      <th>education</th>\n",
       "      <th>education_years</th>\n",
       "      <th>marital_status</th>\n",
       "      <th>occupation</th>\n",
       "      <th>relationship</th>\n",
       "      <th>race</th>\n",
       "      <th>sex</th>\n",
       "      <th>capital_gain</th>\n",
       "      <th>capital_loss</th>\n",
       "      <th>hours_worked_per_week</th>\n",
       "      <th>native_country</th>\n",
       "      <th>income</th>\n",
       "    </tr>\n",
       "  </thead>\n",
       "  <tbody>\n",
       "    <tr>\n",
       "      <th>0</th>\n",
       "      <td>0.301370</td>\n",
       "      <td>State-gov</td>\n",
       "      <td>Bachelors</td>\n",
       "      <td>0.800000</td>\n",
       "      <td>Never-married</td>\n",
       "      <td>Adm-clerical</td>\n",
       "      <td>Not-in-family</td>\n",
       "      <td>White</td>\n",
       "      <td>Male</td>\n",
       "      <td>0.667492</td>\n",
       "      <td>0.0</td>\n",
       "      <td>0.397959</td>\n",
       "      <td>United-States</td>\n",
       "      <td>&lt;=50K</td>\n",
       "    </tr>\n",
       "    <tr>\n",
       "      <th>1</th>\n",
       "      <td>0.452055</td>\n",
       "      <td>Self-emp-not-inc</td>\n",
       "      <td>Bachelors</td>\n",
       "      <td>0.800000</td>\n",
       "      <td>Married-civ-spouse</td>\n",
       "      <td>Exec-managerial</td>\n",
       "      <td>Husband</td>\n",
       "      <td>White</td>\n",
       "      <td>Male</td>\n",
       "      <td>0.000000</td>\n",
       "      <td>0.0</td>\n",
       "      <td>0.122449</td>\n",
       "      <td>United-States</td>\n",
       "      <td>&lt;=50K</td>\n",
       "    </tr>\n",
       "    <tr>\n",
       "      <th>2</th>\n",
       "      <td>0.287671</td>\n",
       "      <td>Private</td>\n",
       "      <td>HS-grad</td>\n",
       "      <td>0.533333</td>\n",
       "      <td>Divorced</td>\n",
       "      <td>Handlers-cleaners</td>\n",
       "      <td>Not-in-family</td>\n",
       "      <td>White</td>\n",
       "      <td>Male</td>\n",
       "      <td>0.000000</td>\n",
       "      <td>0.0</td>\n",
       "      <td>0.397959</td>\n",
       "      <td>United-States</td>\n",
       "      <td>&lt;=50K</td>\n",
       "    </tr>\n",
       "    <tr>\n",
       "      <th>3</th>\n",
       "      <td>0.493151</td>\n",
       "      <td>Private</td>\n",
       "      <td>11th</td>\n",
       "      <td>0.400000</td>\n",
       "      <td>Married-civ-spouse</td>\n",
       "      <td>Handlers-cleaners</td>\n",
       "      <td>Husband</td>\n",
       "      <td>Black</td>\n",
       "      <td>Male</td>\n",
       "      <td>0.000000</td>\n",
       "      <td>0.0</td>\n",
       "      <td>0.397959</td>\n",
       "      <td>United-States</td>\n",
       "      <td>&lt;=50K</td>\n",
       "    </tr>\n",
       "    <tr>\n",
       "      <th>4</th>\n",
       "      <td>0.150685</td>\n",
       "      <td>Private</td>\n",
       "      <td>Bachelors</td>\n",
       "      <td>0.800000</td>\n",
       "      <td>Married-civ-spouse</td>\n",
       "      <td>Prof-specialty</td>\n",
       "      <td>Wife</td>\n",
       "      <td>Black</td>\n",
       "      <td>Female</td>\n",
       "      <td>0.000000</td>\n",
       "      <td>0.0</td>\n",
       "      <td>0.397959</td>\n",
       "      <td>Cuba</td>\n",
       "      <td>&lt;=50K</td>\n",
       "    </tr>\n",
       "  </tbody>\n",
       "</table>\n",
       "</div>"
      ],
      "text/plain": [
       "        age          workclass   education  education_years  \\\n",
       "0  0.301370          State-gov   Bachelors         0.800000   \n",
       "1  0.452055   Self-emp-not-inc   Bachelors         0.800000   \n",
       "2  0.287671            Private     HS-grad         0.533333   \n",
       "3  0.493151            Private        11th         0.400000   \n",
       "4  0.150685            Private   Bachelors         0.800000   \n",
       "\n",
       "        marital_status          occupation    relationship    race      sex  \\\n",
       "0        Never-married        Adm-clerical   Not-in-family   White     Male   \n",
       "1   Married-civ-spouse     Exec-managerial         Husband   White     Male   \n",
       "2             Divorced   Handlers-cleaners   Not-in-family   White     Male   \n",
       "3   Married-civ-spouse   Handlers-cleaners         Husband   Black     Male   \n",
       "4   Married-civ-spouse      Prof-specialty            Wife   Black   Female   \n",
       "\n",
       "   capital_gain  capital_loss  hours_worked_per_week  native_country  income  \n",
       "0      0.667492           0.0               0.397959   United-States   <=50K  \n",
       "1      0.000000           0.0               0.122449   United-States   <=50K  \n",
       "2      0.000000           0.0               0.397959   United-States   <=50K  \n",
       "3      0.000000           0.0               0.397959   United-States   <=50K  \n",
       "4      0.000000           0.0               0.397959            Cuba   <=50K  "
      ]
     },
     "execution_count": 38,
     "metadata": {},
     "output_type": "execute_result"
    }
   ],
   "source": [
    "# Visualising the change with feature scaling\n",
    "features_log_minmax_transform.head()"
   ]
  },
  {
   "cell_type": "markdown",
   "metadata": {},
   "source": [
    "#### Splitting target and features\n",
    "We want to split our data into our predictors target variables. In our case we simply have 1 target variable and the rest of our columns are the features we want to input into our model. "
   ]
  },
  {
   "cell_type": "code",
   "execution_count": 39,
   "metadata": {},
   "outputs": [],
   "source": [
    "# Split the data into features and target label\n",
    "income_raw = features_log_minmax_transform['income']\n",
    "features_log_minmax_transform.drop('income', axis = 1, inplace = True)"
   ]
  },
  {
   "cell_type": "code",
   "execution_count": 40,
   "metadata": {
    "scrolled": true
   },
   "outputs": [
    {
     "name": "stdout",
     "output_type": "stream",
     "text": [
      "Seems our income was correctly dropped from our features dataset\n",
      "Lets see what our income array looks like:\n"
     ]
    },
    {
     "data": {
      "text/plain": [
       "0     <=50K\n",
       "1     <=50K\n",
       "2     <=50K\n",
       "3     <=50K\n",
       "4     <=50K\n",
       "Name: income, dtype: object"
      ]
     },
     "execution_count": 40,
     "metadata": {},
     "output_type": "execute_result"
    }
   ],
   "source": [
    "# Verifying our split worked\n",
    "assert 'income' not in features_log_minmax_transform.columns\n",
    "print('Seems our income was correctly dropped from our features dataset')\n",
    "print('Lets see what our income array looks like:')\n",
    "income_raw.head()"
   ]
  },
  {
   "cell_type": "markdown",
   "metadata": {},
   "source": [
    "#### One hot encoding \n",
    "\n",
    "From the table in Exploring the Data above, we can see there are several features for each record that are non-numeric. Typically, learning algorithms expect input to be numeric, which requires that non-numeric features (called categorical variables) be converted. One popular way to convert categorical variables is by using the one-hot encoding scheme. One-hot encoding creates a \"dummy\" variable for each possible category of each non-numeric feature. For example, assume someFeature has three possible entries: A, B, or C. We then encode this feature into someFeature_A, someFeature_B and someFeature_C.\n",
    "\n",
    "Additionally, as with the non-numeric features, we need to convert the non-numeric target label, 'income' to numerical values for the learning algorithm to work. Since there are only two possible categories for this label (\"<=50K\" and \">50K\"), we can avoid using one-hot encoding and simply encode these two categories as 0 and 1, respectively. In code cell below, I will implement the following:"
   ]
  },
  {
   "cell_type": "code",
   "execution_count": 41,
   "metadata": {},
   "outputs": [],
   "source": [
    "# One-hot encode the 'features_log_minmax_transform' data using pandas.get_dummies()\n",
    "features_final = pd.get_dummies(features_log_minmax_transform)"
   ]
  },
  {
   "cell_type": "code",
   "execution_count": 42,
   "metadata": {},
   "outputs": [],
   "source": [
    "# Removing whitespace from column headers\n",
    "features_final.columns = features_final.columns.str.replace(' ', '')"
   ]
  },
  {
   "cell_type": "code",
   "execution_count": 43,
   "metadata": {},
   "outputs": [],
   "source": [
    "# Encode the 'income_raw' data to numerical values\n",
    "income = income_raw.apply(lambda x: 1 if x == ' >50K' else 0)"
   ]
  },
  {
   "cell_type": "code",
   "execution_count": 44,
   "metadata": {},
   "outputs": [
    {
     "name": "stdout",
     "output_type": "stream",
     "text": [
      "103 total features after one-hot encoding.\n",
      "\n",
      "['age', 'education_years', 'capital_gain', 'capital_loss', 'hours_worked_per_week']\n"
     ]
    }
   ],
   "source": [
    "# Print the number of features after one-hot encoding\n",
    "encoded = list(features_final.columns)\n",
    "print(\"{} total features after one-hot encoding.\\n\".format(len(encoded)))\n",
    "\n",
    "# Uncomment the following line to see the encoded feature names\n",
    "print (encoded[:5])"
   ]
  },
  {
   "cell_type": "code",
   "execution_count": 45,
   "metadata": {},
   "outputs": [
    {
     "data": {
      "text/html": [
       "<div>\n",
       "<style scoped>\n",
       "    .dataframe tbody tr th:only-of-type {\n",
       "        vertical-align: middle;\n",
       "    }\n",
       "\n",
       "    .dataframe tbody tr th {\n",
       "        vertical-align: top;\n",
       "    }\n",
       "\n",
       "    .dataframe thead th {\n",
       "        text-align: right;\n",
       "    }\n",
       "</style>\n",
       "<table border=\"1\" class=\"dataframe\">\n",
       "  <thead>\n",
       "    <tr style=\"text-align: right;\">\n",
       "      <th></th>\n",
       "      <th>age</th>\n",
       "      <th>education_years</th>\n",
       "      <th>capital_gain</th>\n",
       "      <th>capital_loss</th>\n",
       "      <th>hours_worked_per_week</th>\n",
       "      <th>workclass_Federal-gov</th>\n",
       "      <th>workclass_Local-gov</th>\n",
       "      <th>workclass_Private</th>\n",
       "      <th>workclass_Self-emp-inc</th>\n",
       "      <th>workclass_Self-emp-not-inc</th>\n",
       "      <th>...</th>\n",
       "      <th>native_country_Portugal</th>\n",
       "      <th>native_country_Puerto-Rico</th>\n",
       "      <th>native_country_Scotland</th>\n",
       "      <th>native_country_South</th>\n",
       "      <th>native_country_Taiwan</th>\n",
       "      <th>native_country_Thailand</th>\n",
       "      <th>native_country_Trinadad&amp;Tobago</th>\n",
       "      <th>native_country_United-States</th>\n",
       "      <th>native_country_Vietnam</th>\n",
       "      <th>native_country_Yugoslavia</th>\n",
       "    </tr>\n",
       "  </thead>\n",
       "  <tbody>\n",
       "    <tr>\n",
       "      <th>0</th>\n",
       "      <td>0.301370</td>\n",
       "      <td>0.800000</td>\n",
       "      <td>0.667492</td>\n",
       "      <td>0.0</td>\n",
       "      <td>0.397959</td>\n",
       "      <td>0</td>\n",
       "      <td>0</td>\n",
       "      <td>0</td>\n",
       "      <td>0</td>\n",
       "      <td>0</td>\n",
       "      <td>...</td>\n",
       "      <td>0</td>\n",
       "      <td>0</td>\n",
       "      <td>0</td>\n",
       "      <td>0</td>\n",
       "      <td>0</td>\n",
       "      <td>0</td>\n",
       "      <td>0</td>\n",
       "      <td>1</td>\n",
       "      <td>0</td>\n",
       "      <td>0</td>\n",
       "    </tr>\n",
       "    <tr>\n",
       "      <th>1</th>\n",
       "      <td>0.452055</td>\n",
       "      <td>0.800000</td>\n",
       "      <td>0.000000</td>\n",
       "      <td>0.0</td>\n",
       "      <td>0.122449</td>\n",
       "      <td>0</td>\n",
       "      <td>0</td>\n",
       "      <td>0</td>\n",
       "      <td>0</td>\n",
       "      <td>1</td>\n",
       "      <td>...</td>\n",
       "      <td>0</td>\n",
       "      <td>0</td>\n",
       "      <td>0</td>\n",
       "      <td>0</td>\n",
       "      <td>0</td>\n",
       "      <td>0</td>\n",
       "      <td>0</td>\n",
       "      <td>1</td>\n",
       "      <td>0</td>\n",
       "      <td>0</td>\n",
       "    </tr>\n",
       "    <tr>\n",
       "      <th>2</th>\n",
       "      <td>0.287671</td>\n",
       "      <td>0.533333</td>\n",
       "      <td>0.000000</td>\n",
       "      <td>0.0</td>\n",
       "      <td>0.397959</td>\n",
       "      <td>0</td>\n",
       "      <td>0</td>\n",
       "      <td>1</td>\n",
       "      <td>0</td>\n",
       "      <td>0</td>\n",
       "      <td>...</td>\n",
       "      <td>0</td>\n",
       "      <td>0</td>\n",
       "      <td>0</td>\n",
       "      <td>0</td>\n",
       "      <td>0</td>\n",
       "      <td>0</td>\n",
       "      <td>0</td>\n",
       "      <td>1</td>\n",
       "      <td>0</td>\n",
       "      <td>0</td>\n",
       "    </tr>\n",
       "    <tr>\n",
       "      <th>3</th>\n",
       "      <td>0.493151</td>\n",
       "      <td>0.400000</td>\n",
       "      <td>0.000000</td>\n",
       "      <td>0.0</td>\n",
       "      <td>0.397959</td>\n",
       "      <td>0</td>\n",
       "      <td>0</td>\n",
       "      <td>1</td>\n",
       "      <td>0</td>\n",
       "      <td>0</td>\n",
       "      <td>...</td>\n",
       "      <td>0</td>\n",
       "      <td>0</td>\n",
       "      <td>0</td>\n",
       "      <td>0</td>\n",
       "      <td>0</td>\n",
       "      <td>0</td>\n",
       "      <td>0</td>\n",
       "      <td>1</td>\n",
       "      <td>0</td>\n",
       "      <td>0</td>\n",
       "    </tr>\n",
       "    <tr>\n",
       "      <th>4</th>\n",
       "      <td>0.150685</td>\n",
       "      <td>0.800000</td>\n",
       "      <td>0.000000</td>\n",
       "      <td>0.0</td>\n",
       "      <td>0.397959</td>\n",
       "      <td>0</td>\n",
       "      <td>0</td>\n",
       "      <td>1</td>\n",
       "      <td>0</td>\n",
       "      <td>0</td>\n",
       "      <td>...</td>\n",
       "      <td>0</td>\n",
       "      <td>0</td>\n",
       "      <td>0</td>\n",
       "      <td>0</td>\n",
       "      <td>0</td>\n",
       "      <td>0</td>\n",
       "      <td>0</td>\n",
       "      <td>0</td>\n",
       "      <td>0</td>\n",
       "      <td>0</td>\n",
       "    </tr>\n",
       "  </tbody>\n",
       "</table>\n",
       "<p>5 rows × 103 columns</p>\n",
       "</div>"
      ],
      "text/plain": [
       "        age  education_years  capital_gain  capital_loss  \\\n",
       "0  0.301370         0.800000      0.667492           0.0   \n",
       "1  0.452055         0.800000      0.000000           0.0   \n",
       "2  0.287671         0.533333      0.000000           0.0   \n",
       "3  0.493151         0.400000      0.000000           0.0   \n",
       "4  0.150685         0.800000      0.000000           0.0   \n",
       "\n",
       "   hours_worked_per_week  workclass_Federal-gov  workclass_Local-gov  \\\n",
       "0               0.397959                      0                    0   \n",
       "1               0.122449                      0                    0   \n",
       "2               0.397959                      0                    0   \n",
       "3               0.397959                      0                    0   \n",
       "4               0.397959                      0                    0   \n",
       "\n",
       "   workclass_Private  workclass_Self-emp-inc  workclass_Self-emp-not-inc  ...  \\\n",
       "0                  0                       0                           0  ...   \n",
       "1                  0                       0                           1  ...   \n",
       "2                  1                       0                           0  ...   \n",
       "3                  1                       0                           0  ...   \n",
       "4                  1                       0                           0  ...   \n",
       "\n",
       "   native_country_Portugal  native_country_Puerto-Rico  \\\n",
       "0                        0                           0   \n",
       "1                        0                           0   \n",
       "2                        0                           0   \n",
       "3                        0                           0   \n",
       "4                        0                           0   \n",
       "\n",
       "   native_country_Scotland  native_country_South  native_country_Taiwan  \\\n",
       "0                        0                     0                      0   \n",
       "1                        0                     0                      0   \n",
       "2                        0                     0                      0   \n",
       "3                        0                     0                      0   \n",
       "4                        0                     0                      0   \n",
       "\n",
       "   native_country_Thailand  native_country_Trinadad&Tobago  \\\n",
       "0                        0                               0   \n",
       "1                        0                               0   \n",
       "2                        0                               0   \n",
       "3                        0                               0   \n",
       "4                        0                               0   \n",
       "\n",
       "   native_country_United-States  native_country_Vietnam  \\\n",
       "0                             1                       0   \n",
       "1                             1                       0   \n",
       "2                             1                       0   \n",
       "3                             1                       0   \n",
       "4                             0                       0   \n",
       "\n",
       "   native_country_Yugoslavia  \n",
       "0                          0  \n",
       "1                          0  \n",
       "2                          0  \n",
       "3                          0  \n",
       "4                          0  \n",
       "\n",
       "[5 rows x 103 columns]"
      ]
     },
     "metadata": {},
     "output_type": "display_data"
    },
    {
     "data": {
      "text/plain": [
       "0    0\n",
       "1    0\n",
       "2    0\n",
       "3    0\n",
       "4    0\n",
       "5    0\n",
       "6    0\n",
       "7    1\n",
       "8    1\n",
       "9    1\n",
       "Name: income, dtype: int64"
      ]
     },
     "metadata": {},
     "output_type": "display_data"
    }
   ],
   "source": [
    "# A visualisation of our new data frames\n",
    "display(features_final.head())\n",
    "display(income.head(10))\n"
   ]
  },
  {
   "cell_type": "markdown",
   "metadata": {},
   "source": [
    "### Pipelining the Cleaning Process\n",
    "Below I will create a basic function just so that we can implement the cleaning process in a more programatic fashion. \n",
    "\n"
   ]
  },
  {
   "cell_type": "code",
   "execution_count": 46,
   "metadata": {},
   "outputs": [],
   "source": [
    "def clean_data(data):\n",
    "    '''\n",
    "    INPUT:\n",
    "    data - Pandas Dataframe of our raw data\n",
    "    \n",
    "    OUTPUT:\n",
    "    features_final - Pandas dataframe of our processed features\n",
    "    income - Array of our target features (1's,0's)\n",
    "    \n",
    "    \n",
    "    \n",
    "    Description:\n",
    "    Cleans the data in a pipeline process\n",
    "    '''\n",
    "    # Removing the fnlwgt column in one line\n",
    "    data.drop(['fnlwgt'], axis = 1, inplace = True)\n",
    "    \n",
    "    # indexing the ' ?' rows\n",
    "    q_indx = list(np.nonzero(data.isin([' ?']).sum(axis=1)>0)[0])\n",
    "    # Storing the drop\n",
    "    data.drop(axis=0, index = q_indx, inplace =True)\n",
    "    \n",
    "    # list of all continuous features\n",
    "    cont_feat = list(data.dtypes[data.dtypes == 'int64'].index)\n",
    "    \n",
    "    # creating a list of of column names\n",
    "    skewed_cols = ['capital_gain','capital_loss']\n",
    "    \n",
    "    # Log transforming the skewed features\n",
    "    features_log_transformed = pd.DataFrame(data = data)\n",
    "    features_log_transformed[skewed_cols] = data[skewed_cols].apply(lambda x: np.log(x + 1))\n",
    "    \n",
    "    \n",
    "    # Initialize a scaler, then apply it to the features with a default of 0 -> 1\n",
    "    scaler = MinMaxScaler()\n",
    "\n",
    "    # Copying the dataframe over to a new one\n",
    "    features_log_minmax_transform = features_log_transformed.copy()\n",
    "    # Transforming our new dataframes continuous features\n",
    "    fitted_scaler = scaler.fit(features_log_transformed[cont_feat])\n",
    "    features_log_minmax_transform[cont_feat] = fitted_scaler.transform(features_log_transformed[cont_feat])\n",
    "    \n",
    "    \n",
    "    # Split the data into features and target label\n",
    "    income_raw = features_log_minmax_transform['income']\n",
    "    features_log_minmax_transform.drop('income', axis = 1, inplace = True)\n",
    "    \n",
    "    \n",
    "    \n",
    "    # One-hot encode the 'features_log_minmax_transform' data using pandas.get_dummies()\n",
    "    features_final = pd.get_dummies(features_log_minmax_transform)\n",
    "    features_final.columns = features_final.columns.str.replace(' ', '')\n",
    "    \n",
    "    # Encode the 'income_raw' data to numerical values\n",
    "    income = income_raw.apply(lambda x: 1 if x == ' >50K' else 0)\n",
    "    \n",
    "    return features_final, income"
   ]
  },
  {
   "cell_type": "code",
   "execution_count": 47,
   "metadata": {},
   "outputs": [
    {
     "name": "stderr",
     "output_type": "stream",
     "text": [
      "/anaconda3/lib/python3.7/site-packages/numpy/core/fromnumeric.py:51: FutureWarning: Series.nonzero() is deprecated and will be removed in a future version.Use Series.to_numpy().nonzero() instead\n",
      "  return getattr(obj, method)(*args, **kwds)\n",
      "/anaconda3/lib/python3.7/site-packages/sklearn/preprocessing/data.py:323: DataConversionWarning: Data with input dtype int64, float64 were all converted to float64 by MinMaxScaler.\n",
      "  return self.partial_fit(X, y)\n"
     ]
    }
   ],
   "source": [
    "# Running our cleaning function on our test data set\n",
    "test_features, test_income = clean_data(data_test)"
   ]
  },
  {
   "cell_type": "code",
   "execution_count": 48,
   "metadata": {},
   "outputs": [
    {
     "data": {
      "text/plain": [
       "(15060, 102)"
      ]
     },
     "execution_count": 48,
     "metadata": {},
     "output_type": "execute_result"
    }
   ],
   "source": [
    "# Checking the shape of our data\n",
    "test_features.shape"
   ]
  },
  {
   "cell_type": "markdown",
   "metadata": {},
   "source": [
    "### **Uh Oh!** \n",
    "it seems we are missing a columns in our cleaned test set. Lets investigate."
   ]
  },
  {
   "cell_type": "code",
   "execution_count": 49,
   "metadata": {},
   "outputs": [
    {
     "name": "stdout",
     "output_type": "stream",
     "text": [
      "native_country_Holand-Netherlands\n"
     ]
    }
   ],
   "source": [
    "# Checking the missing column\n",
    "for i in list(features_final.columns):\n",
    "    if i not in list(test_features.columns):\n",
    "        print(i)"
   ]
  },
  {
   "cell_type": "markdown",
   "metadata": {},
   "source": [
    "### The fix\n",
    "\n",
    "The issue here is that our test data set doesn't seem to have anyone from the Netherlands. Its a unique case and we have two options. \n",
    "\n",
    "1. We could merge our data sets from the loading stage and then run the cleaning function on both of them. Then using sklearn's train_test_split function we could separate our data into test and train sets. \n",
    "2. We could add a new column called 'native_country_ Holand-Netherlands' and assign 0's to the whole column for our test_features.\n",
    "\n",
    "**Approach 1 is a much more failsafe** way of processing our data since we can ensure consistency in our pre-processing step. This means if we had data flowing in a production environment we would not run into as many bugs... Or at least not in the preprocessing stage!\n",
    "\n",
    "So I will reload the data below and pass it through our wonderful clean_data function!\n",
    "\n"
   ]
  },
  {
   "cell_type": "code",
   "execution_count": 50,
   "metadata": {},
   "outputs": [],
   "source": [
    "# List of column names to pass to the read_csv function\n",
    "col_names = ['age','workclass','fnlwgt','education','education_years','marital_status','occupation','relationship','race',\n",
    "         'sex','capital_gain','capital_loss','hours_worked_per_week','native_country','income']\n",
    "# Loading in our training data\n",
    "data = pd.read_csv('adultdata', names=col_names)\n",
    "# Loading in the testing data \n",
    "data_test = pd.read_csv('adulttest', names=col_names, skiprows=1)\n"
   ]
  },
  {
   "cell_type": "code",
   "execution_count": 51,
   "metadata": {},
   "outputs": [
    {
     "name": "stdout",
     "output_type": "stream",
     "text": [
      "Data loaded correctly!\n"
     ]
    }
   ],
   "source": [
    "# Quick check that everything was loaded in correctly\n",
    "assert (data_test.columns == data.columns).all()\n",
    "print('Data loaded correctly!')"
   ]
  },
  {
   "cell_type": "code",
   "execution_count": 52,
   "metadata": {},
   "outputs": [],
   "source": [
    "# Merging our dataframes\n",
    "merged_data = pd.concat([data,data_test],ignore_index = True)"
   ]
  },
  {
   "cell_type": "code",
   "execution_count": 53,
   "metadata": {},
   "outputs": [
    {
     "name": "stdout",
     "output_type": "stream",
     "text": [
      "All is well\n"
     ]
    }
   ],
   "source": [
    "# Checking our data was correctly loaded in \n",
    "assert merged_data.shape[0] == data.shape[0] + data_test.shape[0]\n",
    "assert merged_data.shape[1] == data.shape[1] == data_test.shape[1]\n",
    "assert merged_data.isna().sum().sum() == 0\n",
    "print(\"All is well\")"
   ]
  },
  {
   "cell_type": "code",
   "execution_count": 54,
   "metadata": {},
   "outputs": [
    {
     "name": "stderr",
     "output_type": "stream",
     "text": [
      "/anaconda3/lib/python3.7/site-packages/numpy/core/fromnumeric.py:51: FutureWarning: Series.nonzero() is deprecated and will be removed in a future version.Use Series.to_numpy().nonzero() instead\n",
      "  return getattr(obj, method)(*args, **kwds)\n",
      "/anaconda3/lib/python3.7/site-packages/sklearn/preprocessing/data.py:323: DataConversionWarning: Data with input dtype int64, float64 were all converted to float64 by MinMaxScaler.\n",
      "  return self.partial_fit(X, y)\n"
     ]
    }
   ],
   "source": [
    "# Cleaning our merged data\n",
    "features, target = clean_data(merged_data)"
   ]
  },
  {
   "cell_type": "code",
   "execution_count": 55,
   "metadata": {},
   "outputs": [
    {
     "data": {
      "text/html": [
       "<div>\n",
       "<style scoped>\n",
       "    .dataframe tbody tr th:only-of-type {\n",
       "        vertical-align: middle;\n",
       "    }\n",
       "\n",
       "    .dataframe tbody tr th {\n",
       "        vertical-align: top;\n",
       "    }\n",
       "\n",
       "    .dataframe thead th {\n",
       "        text-align: right;\n",
       "    }\n",
       "</style>\n",
       "<table border=\"1\" class=\"dataframe\">\n",
       "  <thead>\n",
       "    <tr style=\"text-align: right;\">\n",
       "      <th></th>\n",
       "      <th>age</th>\n",
       "      <th>education_years</th>\n",
       "      <th>capital_gain</th>\n",
       "      <th>capital_loss</th>\n",
       "      <th>hours_worked_per_week</th>\n",
       "      <th>workclass_Federal-gov</th>\n",
       "      <th>workclass_Local-gov</th>\n",
       "      <th>workclass_Private</th>\n",
       "      <th>workclass_Self-emp-inc</th>\n",
       "      <th>workclass_Self-emp-not-inc</th>\n",
       "      <th>...</th>\n",
       "      <th>native_country_Portugal</th>\n",
       "      <th>native_country_Puerto-Rico</th>\n",
       "      <th>native_country_Scotland</th>\n",
       "      <th>native_country_South</th>\n",
       "      <th>native_country_Taiwan</th>\n",
       "      <th>native_country_Thailand</th>\n",
       "      <th>native_country_Trinadad&amp;Tobago</th>\n",
       "      <th>native_country_United-States</th>\n",
       "      <th>native_country_Vietnam</th>\n",
       "      <th>native_country_Yugoslavia</th>\n",
       "    </tr>\n",
       "  </thead>\n",
       "  <tbody>\n",
       "    <tr>\n",
       "      <th>0</th>\n",
       "      <td>0.301370</td>\n",
       "      <td>0.800000</td>\n",
       "      <td>0.667492</td>\n",
       "      <td>0.0</td>\n",
       "      <td>0.397959</td>\n",
       "      <td>0</td>\n",
       "      <td>0</td>\n",
       "      <td>0</td>\n",
       "      <td>0</td>\n",
       "      <td>0</td>\n",
       "      <td>...</td>\n",
       "      <td>0</td>\n",
       "      <td>0</td>\n",
       "      <td>0</td>\n",
       "      <td>0</td>\n",
       "      <td>0</td>\n",
       "      <td>0</td>\n",
       "      <td>0</td>\n",
       "      <td>1</td>\n",
       "      <td>0</td>\n",
       "      <td>0</td>\n",
       "    </tr>\n",
       "    <tr>\n",
       "      <th>1</th>\n",
       "      <td>0.452055</td>\n",
       "      <td>0.800000</td>\n",
       "      <td>0.000000</td>\n",
       "      <td>0.0</td>\n",
       "      <td>0.122449</td>\n",
       "      <td>0</td>\n",
       "      <td>0</td>\n",
       "      <td>0</td>\n",
       "      <td>0</td>\n",
       "      <td>1</td>\n",
       "      <td>...</td>\n",
       "      <td>0</td>\n",
       "      <td>0</td>\n",
       "      <td>0</td>\n",
       "      <td>0</td>\n",
       "      <td>0</td>\n",
       "      <td>0</td>\n",
       "      <td>0</td>\n",
       "      <td>1</td>\n",
       "      <td>0</td>\n",
       "      <td>0</td>\n",
       "    </tr>\n",
       "    <tr>\n",
       "      <th>2</th>\n",
       "      <td>0.287671</td>\n",
       "      <td>0.533333</td>\n",
       "      <td>0.000000</td>\n",
       "      <td>0.0</td>\n",
       "      <td>0.397959</td>\n",
       "      <td>0</td>\n",
       "      <td>0</td>\n",
       "      <td>1</td>\n",
       "      <td>0</td>\n",
       "      <td>0</td>\n",
       "      <td>...</td>\n",
       "      <td>0</td>\n",
       "      <td>0</td>\n",
       "      <td>0</td>\n",
       "      <td>0</td>\n",
       "      <td>0</td>\n",
       "      <td>0</td>\n",
       "      <td>0</td>\n",
       "      <td>1</td>\n",
       "      <td>0</td>\n",
       "      <td>0</td>\n",
       "    </tr>\n",
       "    <tr>\n",
       "      <th>3</th>\n",
       "      <td>0.493151</td>\n",
       "      <td>0.400000</td>\n",
       "      <td>0.000000</td>\n",
       "      <td>0.0</td>\n",
       "      <td>0.397959</td>\n",
       "      <td>0</td>\n",
       "      <td>0</td>\n",
       "      <td>1</td>\n",
       "      <td>0</td>\n",
       "      <td>0</td>\n",
       "      <td>...</td>\n",
       "      <td>0</td>\n",
       "      <td>0</td>\n",
       "      <td>0</td>\n",
       "      <td>0</td>\n",
       "      <td>0</td>\n",
       "      <td>0</td>\n",
       "      <td>0</td>\n",
       "      <td>1</td>\n",
       "      <td>0</td>\n",
       "      <td>0</td>\n",
       "    </tr>\n",
       "    <tr>\n",
       "      <th>4</th>\n",
       "      <td>0.150685</td>\n",
       "      <td>0.800000</td>\n",
       "      <td>0.000000</td>\n",
       "      <td>0.0</td>\n",
       "      <td>0.397959</td>\n",
       "      <td>0</td>\n",
       "      <td>0</td>\n",
       "      <td>1</td>\n",
       "      <td>0</td>\n",
       "      <td>0</td>\n",
       "      <td>...</td>\n",
       "      <td>0</td>\n",
       "      <td>0</td>\n",
       "      <td>0</td>\n",
       "      <td>0</td>\n",
       "      <td>0</td>\n",
       "      <td>0</td>\n",
       "      <td>0</td>\n",
       "      <td>0</td>\n",
       "      <td>0</td>\n",
       "      <td>0</td>\n",
       "    </tr>\n",
       "  </tbody>\n",
       "</table>\n",
       "<p>5 rows × 103 columns</p>\n",
       "</div>"
      ],
      "text/plain": [
       "        age  education_years  capital_gain  capital_loss  \\\n",
       "0  0.301370         0.800000      0.667492           0.0   \n",
       "1  0.452055         0.800000      0.000000           0.0   \n",
       "2  0.287671         0.533333      0.000000           0.0   \n",
       "3  0.493151         0.400000      0.000000           0.0   \n",
       "4  0.150685         0.800000      0.000000           0.0   \n",
       "\n",
       "   hours_worked_per_week  workclass_Federal-gov  workclass_Local-gov  \\\n",
       "0               0.397959                      0                    0   \n",
       "1               0.122449                      0                    0   \n",
       "2               0.397959                      0                    0   \n",
       "3               0.397959                      0                    0   \n",
       "4               0.397959                      0                    0   \n",
       "\n",
       "   workclass_Private  workclass_Self-emp-inc  workclass_Self-emp-not-inc  ...  \\\n",
       "0                  0                       0                           0  ...   \n",
       "1                  0                       0                           1  ...   \n",
       "2                  1                       0                           0  ...   \n",
       "3                  1                       0                           0  ...   \n",
       "4                  1                       0                           0  ...   \n",
       "\n",
       "   native_country_Portugal  native_country_Puerto-Rico  \\\n",
       "0                        0                           0   \n",
       "1                        0                           0   \n",
       "2                        0                           0   \n",
       "3                        0                           0   \n",
       "4                        0                           0   \n",
       "\n",
       "   native_country_Scotland  native_country_South  native_country_Taiwan  \\\n",
       "0                        0                     0                      0   \n",
       "1                        0                     0                      0   \n",
       "2                        0                     0                      0   \n",
       "3                        0                     0                      0   \n",
       "4                        0                     0                      0   \n",
       "\n",
       "   native_country_Thailand  native_country_Trinadad&Tobago  \\\n",
       "0                        0                               0   \n",
       "1                        0                               0   \n",
       "2                        0                               0   \n",
       "3                        0                               0   \n",
       "4                        0                               0   \n",
       "\n",
       "   native_country_United-States  native_country_Vietnam  \\\n",
       "0                             1                       0   \n",
       "1                             1                       0   \n",
       "2                             1                       0   \n",
       "3                             1                       0   \n",
       "4                             0                       0   \n",
       "\n",
       "   native_country_Yugoslavia  \n",
       "0                          0  \n",
       "1                          0  \n",
       "2                          0  \n",
       "3                          0  \n",
       "4                          0  \n",
       "\n",
       "[5 rows x 103 columns]"
      ]
     },
     "execution_count": 55,
     "metadata": {},
     "output_type": "execute_result"
    }
   ],
   "source": [
    "# Checking the features data\n",
    "features.head()"
   ]
  },
  {
   "cell_type": "code",
   "execution_count": 56,
   "metadata": {},
   "outputs": [
    {
     "data": {
      "text/plain": [
       "(45222, 103)"
      ]
     },
     "execution_count": 56,
     "metadata": {},
     "output_type": "execute_result"
    }
   ],
   "source": [
    "features.shape"
   ]
  },
  {
   "cell_type": "code",
   "execution_count": 57,
   "metadata": {},
   "outputs": [
    {
     "data": {
      "text/plain": [
       "0    0\n",
       "1    0\n",
       "2    0\n",
       "3    0\n",
       "4    0\n",
       "5    0\n",
       "6    0\n",
       "7    1\n",
       "8    1\n",
       "9    1\n",
       "Name: income, dtype: int64"
      ]
     },
     "execution_count": 57,
     "metadata": {},
     "output_type": "execute_result"
    }
   ],
   "source": [
    "# Checking our target data\n",
    "target.head(10)"
   ]
  },
  {
   "cell_type": "markdown",
   "metadata": {},
   "source": [
    "### Splitting into Test/Train sets\n"
   ]
  },
  {
   "cell_type": "code",
   "execution_count": 58,
   "metadata": {},
   "outputs": [],
   "source": [
    "# Split the 'features' and 'income' data into training and testing sets\n",
    "X_train, X_test, y_train, y_test = train_test_split(features, \n",
    "                                                    target, \n",
    "                                                    test_size = 0.1, \n",
    "                                                    random_state = 0)"
   ]
  },
  {
   "cell_type": "code",
   "execution_count": 59,
   "metadata": {},
   "outputs": [
    {
     "name": "stdout",
     "output_type": "stream",
     "text": [
      "Training set has 40699 samples.\n",
      "Testing set has 4523 samples.\n"
     ]
    }
   ],
   "source": [
    "# Show the results of the split\n",
    "print(\"Training set has {} samples.\".format(X_train.shape[0]))\n",
    "print(\"Testing set has {} samples.\".format(X_test.shape[0]))"
   ]
  },
  {
   "cell_type": "markdown",
   "metadata": {},
   "source": [
    "<a id =\"Test\"></a>\n",
    "### Model Testing and Evaluation\n",
    "\n",
    "Now for the super fun part! In this section, we will investigate three different algorithms, and determine which is best at modeling the data. Three of these algorithms will be supervised learners.\n",
    "\n",
    "Below I'll give a little background of each supervised learner in terms of high level limitations and industry uses.\n",
    "\n",
    "**Model Selection**:\n",
    "\n",
    "The first model is **AdaBoost**. Adaboost is prominant in the industry of computer vision and speech recognition. This model is a powerful classification algorithm that is not prone to overfitting (due to the fact it utilises so many weak learners) and is fairly simple to implement. However, considering the disadvantages of this model are the fact that it is vulnerable to noisy data and outliers. This model could be succesful when considering that we have a clean dataset on which to preform all the required iterations of weak learners.\n",
    "\n",
    "The second model is **Support Vector Machines** which is used widely in industry from facial recognition to hand writing recognition. A key advantage of SVMs is the ability to utilise the kernel trick which can help to solve almost any complex problem (with the appropriate kernel). However, this being said, it can be rather difficult to pick the right kernel function. Additionally, it can have long training times for larger data sets and SVMs can be prone to overfitting. This model may be appropriate as our data seems that it may have clearly defined boundaries which are integral to the SVM algorithm.\n",
    "\n",
    "Finally, we could use the **Random Forest algorithm**. This is a commonly used algorithm in the banking sector to try and identify customers who are more likely to repay debt etc. It is also used to identify fraud with regards to spending (also a part of the banking sector). One key strength of this model is the fact that it rarely overfits. However, this is dependant on the number of \"trees\" in the forest. Also, the model ignores irrelavent features fairly well too. One glaring limitation of this model is when working with large data, our prediction time can be slow depending on how complex our \"forest\" is. Also, it has a black box effect in which inteprating our model can be rather difficuly. This model may be a good candidate as we seem to have many features of which not all will be crucial and this model should be able to create an accurate classifier.\n",
    "\n",
    "To properly evaluate the performance of each model I've chosen, it's important that I create a training and predicting pipeline that allows a quick and effective model training process using various sizes of training data and perform predictions on the testing data. The implementation here will be used in the following section. In the code block below, I will implement the following:\n",
    "\n",
    "- Fit the learner to the sampled training data and record the training time.\n",
    "- Perform predictions on the test data X_test, and also on the first 300 training points X_train[:300].\n",
    "    - Record the total prediction time.\n",
    "- Calculate the accuracy score for both the training subset and testing set.\n",
    "- Calculate the F-score for both the training subset and testing set.\n",
    "    - set the beta parameter!"
   ]
  },
  {
   "cell_type": "code",
   "execution_count": 60,
   "metadata": {},
   "outputs": [],
   "source": [
    "def train_predict(learner, sample_size, X_train, y_train, X_test, y_test): \n",
    "    '''\n",
    "    inputs:\n",
    "       - learner: the learning algorithm to be trained and predicted on\n",
    "       - sample_size: the size of samples (number) to be drawn from training set\n",
    "       - X_train: features training set\n",
    "       - y_train: income training set\n",
    "       - X_test: features testing set\n",
    "       - y_test: income testing set\n",
    "    '''\n",
    "    \n",
    "    results = {}\n",
    "    \n",
    "    # Fit the learner to the training data using slicing with 'sample_size'\n",
    "    start = time() # Get start time\n",
    "    learner.fit(X_train[:sample_size],y_train[:sample_size])\n",
    "    end = time() # Get end time\n",
    "    \n",
    "    # Calculate the training time\n",
    "    results['train_time'] = end-start\n",
    "        \n",
    "\n",
    "        \n",
    "    # Get the predictions on the test set,\n",
    "    #       then get predictions on the first 300 training samples\n",
    "    start = time() # Get start time\n",
    "    predictions_test = learner.predict(X_test)\n",
    "    predictions_train = learner.predict(X_train[:300])\n",
    "    end = time() # Get end time\n",
    "    \n",
    "    # Calculate the total prediction time\n",
    "    results['pred_time'] = end-start\n",
    "            \n",
    "    # Compute accuracy on the first 300 training samples\n",
    "    results['acc_train'] = accuracy_score(y_train[:300],predictions_train)\n",
    "    \n",
    "    # Compute accuracy on test set\n",
    "    results['acc_test'] = accuracy_score(y_test,predictions_test)\n",
    "            \n",
    "    # Compute F-score on the the first 300 training samples\n",
    "    results['f_train'] = fbeta_score(y_train[:300],predictions_train,beta=0.5)\n",
    "        \n",
    "    # Compute F-score on the test set\n",
    "    results['f_test'] = fbeta_score(y_test,predictions_test,beta=0.5)\n",
    "       \n",
    "    # Success\n",
    "    print (\"{} trained on {} samples.\".format(learner.__class__.__name__, sample_size))\n",
    "        \n",
    "    # Return the results\n",
    "    return results"
   ]
  },
  {
   "cell_type": "markdown",
   "metadata": {},
   "source": [
    "Before we being with training our supervised ML models, we may want to know how a naive predictor would perform on this data set. That being, if we assumed all data points to be correctly classified as an earner above 50,000 , how many points would we miss classify? This gives us a bench mark for our models performance. "
   ]
  },
  {
   "cell_type": "code",
   "execution_count": 61,
   "metadata": {},
   "outputs": [
    {
     "name": "stdout",
     "output_type": "stream",
     "text": [
      "1.0\n",
      "22654\n",
      "Naive Predictor: [Accuracy score: 0.2489, F-score: 0.2929]\n"
     ]
    }
   ],
   "source": [
    "TP = np.sum(income) # Counting the ones as this is the naive case. Note that 'income' is the 'income_raw' data \n",
    "                    # encoded to numerical values done in the data preprocessing step.\n",
    "FP = income.count() - TP # Specific to the naive case\n",
    "\n",
    "TN = 0 # No predicted negatives in the naive case\n",
    "FN = 0 # No predicted negatives in the naive case\n",
    "\n",
    "\n",
    "# Calculating accuracy, precision and recall\n",
    "accuracy = (TP)/(TP+FP)\n",
    "recall = (TP/(TP+FN))\n",
    "precision = (TP/(TP+FP))\n",
    "print(recall)\n",
    "\n",
    "# Calculating F-score using the formula above for beta = 0.5 and correct values for precision and recall.\n",
    "beta=0.5\n",
    "fscore = (1+beta**2)*((precision*recall)/(((beta**2)*precision)+recall))\n",
    "\n",
    "print (FP)\n",
    "# Printing the results \n",
    "print(\"Naive Predictor: [Accuracy score: {:.4f}, F-score: {:.4f}]\".format(accuracy,fscore))"
   ]
  },
  {
   "cell_type": "markdown",
   "metadata": {},
   "source": [
    "<a id =\"Eval\"></a>\n",
    "### Model Evaluation\n",
    "\n",
    "Here we will evaluate several models and then move foward with our top pick. Also, we will review the metrics for the chosen model.\n",
    "\n",
    "In the code cell, I will implement the following:\n",
    "\n",
    "- Import the three supervised learning models I've discussed in the previous section.\n",
    "- Initialize the three models and store them in 'clf_A', 'clf_B', and 'clf_C'. clf stands for classifier.\n",
    "    - Use a 'random_state' for each model you use, if provided.\n",
    "    - Note: I will use the default settings for each model — we will then tune one specific model in a later section.\n",
    "- Calculate the number of records equal to 1%, 10%, and 100% of the training data.\n",
    "    - Store those values in 'samples_1', 'samples_10', and 'samples_100' respectively."
   ]
  },
  {
   "cell_type": "code",
   "execution_count": 62,
   "metadata": {},
   "outputs": [
    {
     "name": "stdout",
     "output_type": "stream",
     "text": [
      "AdaBoostClassifier trained on 406 samples.\n",
      "AdaBoostClassifier trained on 4069 samples.\n",
      "AdaBoostClassifier trained on 40699 samples.\n",
      "LinearSVC trained on 406 samples.\n",
      "LinearSVC trained on 4069 samples.\n",
      "LinearSVC trained on 40699 samples.\n",
      "RandomForestClassifier trained on 406 samples.\n",
      "RandomForestClassifier trained on 4069 samples.\n"
     ]
    },
    {
     "name": "stderr",
     "output_type": "stream",
     "text": [
      "/anaconda3/lib/python3.7/site-packages/sklearn/ensemble/forest.py:246: FutureWarning: The default value of n_estimators will change from 10 in version 0.20 to 100 in 0.22.\n",
      "  \"10 in version 0.20 to 100 in 0.22.\", FutureWarning)\n"
     ]
    },
    {
     "name": "stdout",
     "output_type": "stream",
     "text": [
      "RandomForestClassifier trained on 40699 samples.\n"
     ]
    },
    {
     "data": {
      "image/png": "[encoded data removed]",
      "text/plain": [
       "<Figure size 792x504 with 6 Axes>"
      ]
     },
     "metadata": {
      "needs_background": "light"
     },
     "output_type": "display_data"
    }
   ],
   "source": [
    "# Initializing the three models\n",
    "clf_A = AdaBoostClassifier(random_state=0)\n",
    "clf_B = LinearSVC(random_state=0)\n",
    "clf_C = RandomForestClassifier(random_state=0)\n",
    "\n",
    "\n",
    "# Calculating the number of samples for 1%, 10%, and 100% of the training data\n",
    "# Samples_100 is the entire training set i.e. len(y_train)\n",
    "# Samples_10 is 10% of samples_100 (ensure to set the count of the values to be `int` and not `float`)\n",
    "# Samples_1 is 1% of samples_100 (ensure to set the count of the values to be `int` and not `float`)\n",
    "samples_1 = int(X_train.shape[0] / 100)\n",
    "samples_10 = int(X_train.shape[0] / 10)\n",
    "samples_100 = int(X_train.shape[0])\n",
    "\n",
    "# Collect results on the learners\n",
    "results = {}\n",
    "for clf in [clf_A, clf_B, clf_C]:\n",
    "    clf_name = clf.__class__.__name__\n",
    "    results[clf_name] = {}\n",
    "    for i, samples in enumerate([samples_1, samples_10, samples_100]):\n",
    "        results[clf_name][i] = \\\n",
    "        train_predict(clf, samples, X_train, y_train, X_test, y_test)\n",
    "\n",
    "# Run metrics visualization for the three supervised learning models chosen\n",
    "# Using the visualisation package visuals.py\n",
    "vs.evaluate(results,  accuracy, fscore)"
   ]
  },
  {
   "cell_type": "markdown",
   "metadata": {},
   "source": [
    "#### Choosing the Best Model \n",
    "\n",
    "so, it seems the **Adaboost classifier** is the best model from the three that were tested. This is clear as it has the highest **F score** out of all the models. However, the training and predicting time seems to be the largest but in our case this is probably not a signifigant issue as our model wont need to make real time predictions. If it were, we might be better suited to pick the **SVM** as it offers similar predictive capabilities but requires less than half the time in predicting and signifigantly less time in model training.\n",
    "\n",
    "\n",
    "#### Describing the Model in Layman's Terms\n",
    "The adaboost model is considered an Ensemble Method. In essence, what this means is that the model builds on very rudementary and simple models (usually decision trees with a depth of 1) that are called weak learners as they tend to be poor models for the data. These learners are built through an iterative process that weights the incorrectly classified data points higher so that the next model iteration accounts for these points more and essentially classifies them more correctly. Adaboost builds on these iterative models by weighting each models accuracy. From these weights (between -1 and 1) the model determines how correct each weak learner is and then combines them to create a single strong learner. If the iterative model is incorrect most of the time, it will score nearer to -1 and vice versa. A iterative model that is correct about 50% of the time is weighted closer to 0 since it doesnt provide the overall model with much information on the training data. Essentially, **our Strong Learner is comprised of many Weak Learners**."
   ]
  },
  {
   "cell_type": "markdown",
   "metadata": {},
   "source": [
    "#### Model Tuning\n",
    "\n",
    "Lets fine tune the chosen model. Using grid search (GridSearchCV) with at least one important parameter tuned with at least 3 different values. I will need to use the entire training set for this. In the code cell below, I will need to implement the following:\n",
    "\n",
    "- Import sklearn.grid_search.GridSearchCV and sklearn.metrics.make_scorer.\n",
    "- Initialize the classifier I've chosen and store it in clf.\n",
    "    - Set a random_state if one is available to the same state I set before.\n",
    "- Create a dictionary of parameters I wish to tune for the chosen model.\n",
    "    - Example: parameters = {'parameter' : [list of values]}.\n",
    "- Use make_scorer to create an fbeta_score scoring object (with $\\beta = 0.5$).\n",
    "- Perform grid search on the classifier clf using the 'scorer', and store it in grid_obj.\n",
    "- Fit the grid search object to the training data (X_train, y_train), and store it in grid_fit."
   ]
  },
  {
   "cell_type": "code",
   "execution_count": 63,
   "metadata": {},
   "outputs": [
    {
     "name": "stdout",
     "output_type": "stream",
     "text": [
      "Unoptimized model\n",
      "------\n",
      "Accuracy score on testing data: 0.8627\n",
      "F-score on testing data: 0.5227\n",
      "\n",
      "Optimized Model\n",
      "------\n",
      "Final accuracy score on the testing data: 0.8625\n",
      "Final F-score on the testing data: 0.5278\n"
     ]
    }
   ],
   "source": [
    "# Initializing the classifier\n",
    "clf = AdaBoostClassifier(random_state=0, base_estimator = DecisionTreeClassifier(max_depth=1))\n",
    "\n",
    "# Creating the parameters list I wish to tune, using a dictionary.\n",
    "parameters = {'n_estimators':[45,50,100,200,500],'learning_rate':[0.2,0.4,0.8,1]}\n",
    "# Making an fbeta_score scoring object using make_scorer()\n",
    "scorer = make_scorer(fbeta_score,beta=0.5)\n",
    "\n",
    "# Performing grid search on the classifier using 'scorer' as the scoring method using GridSearchCV()\n",
    "grid_obj = GridSearchCV(clf, parameters, scoring=scorer, cv=3)\n",
    "\n",
    "# Fitting the grid search object to the training data and find the optimal parameters using fit()\n",
    "grid_fit = grid_obj.fit(X_train, y_train)\n",
    "\n",
    "# Geting the estimator\n",
    "best_clf = grid_fit.best_estimator_\n",
    "\n",
    "# Making predictions using the unoptimized and model\n",
    "predictions = (clf.fit(X_train, y_train)).predict(X_test)\n",
    "best_predictions = best_clf.predict(X_test)\n",
    "    \n",
    "# Report the before-and-afterscores\n",
    "print(\"Unoptimized model\\n------\")\n",
    "print(\"Accuracy score on testing data: {:.4f}\".format(accuracy_score(y_test, predictions)))\n",
    "print(\"F-score on testing data: {:.4f}\".format(fbeta_score(y_test, predictions, beta = 0.5)))\n",
    "print(\"\\nOptimized Model\\n------\")\n",
    "print(\"Final accuracy score on the testing data: {:.4f}\".format(accuracy_score(y_test, best_predictions)))\n",
    "print(\"Final F-score on the testing data: {:.4f}\".format(fbeta_score(y_test, best_predictions, beta = 0.5)))"
   ]
  },
  {
   "cell_type": "code",
   "execution_count": 64,
   "metadata": {},
   "outputs": [
    {
     "data": {
      "text/plain": [
       "{'learning_rate': 1, 'n_estimators': 500}"
      ]
     },
     "execution_count": 64,
     "metadata": {},
     "output_type": "execute_result"
    }
   ],
   "source": [
    "# Finding the best parameters\n",
    "grid_fit.best_params_"
   ]
  },
  {
   "cell_type": "code",
   "execution_count": 65,
   "metadata": {},
   "outputs": [],
   "source": [
    "### Creating a confusion matrix object\n",
    "confusion_matrix = confusion_matrix(y_test, predictions)\n",
    "confusion_matrix  = confusion_matrix.astype('float') / confusion_matrix.sum(axis=1)[:, np.newaxis]"
   ]
  },
  {
   "cell_type": "code",
   "execution_count": 66,
   "metadata": {},
   "outputs": [
    {
     "data": {
      "image/png": "[encoded data removed]",
      "text/plain": [
       "<Figure size 432x288 with 2 Axes>"
      ]
     },
     "metadata": {
      "needs_background": "light"
     },
     "output_type": "display_data"
    }
   ],
   "source": [
    "classes = ['Less than 50,000','More than 50']\n",
    "confusion_matrix  = confusion_matrix.astype('float') / confusion_matrix.sum(axis=1)[:, np.newaxis]\n",
    "fig, ax = plt.subplots()\n",
    "im = ax.imshow(confusion_matrix, interpolation='nearest', cmap=plt.cm.Blues)\n",
    "ax.figure.colorbar(im, ax=ax)\n",
    "# We want to show all ticks...\n",
    "ax.set(xticks=np.arange(confusion_matrix.shape[1]),\n",
    "        yticks=np.arange(confusion_matrix.shape[0]),\n",
    "        # ... and label them with the respective list entries\n",
    "        xticklabels=classes, yticklabels=classes,\n",
    "        title=\"Confusion Matrix\",\n",
    "        ylabel='True label',\n",
    "        xlabel='Predicted label')\n",
    "\n",
    "# Rotate the tick labels and set their alignment.\n",
    "plt.setp(ax.get_xticklabels(), rotation=45, ha=\"right\",\n",
    "            rotation_mode=\"anchor\")\n",
    "\n",
    "fmt = '.4f'\n",
    "thresh = confusion_matrix.max() / 2.\n",
    "for i in range(confusion_matrix.shape[0]):\n",
    "    for j in range(confusion_matrix.shape[1]):\n",
    "        ax.text(j, i, format(confusion_matrix[i, j], fmt),\n",
    "                ha=\"center\", va=\"center\",\n",
    "                color=\"white\" if confusion_matrix[i, j] > thresh else \"black\")\n",
    "fig.tight_layout()\n",
    "ax;"
   ]
  },
  {
   "cell_type": "code",
   "execution_count": 67,
   "metadata": {},
   "outputs": [
    {
     "name": "stdout",
     "output_type": "stream",
     "text": [
      "Our accuracy for the AdaBoost model was 86.27%\n"
     ]
    }
   ],
   "source": [
    "# Checking our accuracy for the model \n",
    "accuracy = (predictions == y_test).mean()\n",
    "print(\"Our accuracy for the AdaBoost model was {0:.2f}%\".format(100*accuracy))"
   ]
  },
  {
   "cell_type": "code",
   "execution_count": 68,
   "metadata": {},
   "outputs": [
    {
     "name": "stdout",
     "output_type": "stream",
     "text": [
      "Our precision for the model was 62.26%\n"
     ]
    }
   ],
   "source": [
    "# Checking our Precision\n",
    "# Precision = True Positive / (True Positive + False Positive)\n",
    "print(\"Our precision for the model was {0:.2f}%\".format(100*precision_score(y_test, predictions)))"
   ]
  },
  {
   "cell_type": "code",
   "execution_count": 69,
   "metadata": {},
   "outputs": [
    {
     "name": "stdout",
     "output_type": "stream",
     "text": [
      "Our recall for the model was 31.83%\n"
     ]
    }
   ],
   "source": [
    "# Checking our Recall\n",
    "# Recall = True Positive / (True Positive + False Negative)\n",
    "print(\"Our recall for the model was {0:.2f}%\".format(100* recall_score(y_test, predictions)))"
   ]
  },
  {
   "cell_type": "code",
   "execution_count": 70,
   "metadata": {},
   "outputs": [
    {
     "data": {
      "image/png": "[encoded data removed]",
      "text/plain": [
       "<Figure size 648x360 with 1 Axes>"
      ]
     },
     "metadata": {
      "needs_background": "light"
     },
     "output_type": "display_data"
    }
   ],
   "source": [
    "# Train the supervised model on the training set using .fit(X_train, y_train)\n",
    "model = AdaBoostClassifier().fit(X_train, y_train)\n",
    "\n",
    "# Extract the feature importances using .feature_importances_ \n",
    "importances = model.feature_importances_\n",
    "\n",
    "# Plot\n",
    "vs.feature_plot(importances, X_train, y_train)"
   ]
  },
  {
   "cell_type": "markdown",
   "metadata": {},
   "source": [
    "Many of the features I guessed are apparent in the model. However, it seems capital loss is much higher of value in our predictive model than I initially thought. This makes sense when we consider that those we have a high capital loss may not feel inclined to donate to charity as it would be an added risk for themselves.\n",
    "\n",
    "<a id = \"Export\"></a>\n",
    "### Exporting\n",
    "Here we will simply export our model and peripherals we will need for our web app."
   ]
  },
  {
   "cell_type": "code",
   "execution_count": 71,
   "metadata": {},
   "outputs": [],
   "source": [
    "# Exporting the highest accuracy model\n",
    "filename = 'model.pkl'\n",
    "pickle.dump(best_clf, open(filename, 'wb'))"
   ]
  },
  {
   "cell_type": "code",
   "execution_count": 72,
   "metadata": {},
   "outputs": [],
   "source": [
    "# load the model from disk\n",
    "loaded_model = pickle.load(open(filename, 'rb'))"
   ]
  },
  {
   "cell_type": "code",
   "execution_count": 75,
   "metadata": {},
   "outputs": [],
   "source": [
    "# Exporting the fitted scaler model\n",
    "pickle.dump(fitted_scaler, open('scaler.pkl', 'wb'))"
   ]
  },
  {
   "cell_type": "code",
   "execution_count": 76,
   "metadata": {},
   "outputs": [],
   "source": [
    "# load the scaler model from disk\n",
    "scaler_model = pickle.load(open('scaler.pkl', 'rb'))"
   ]
  },
  {
   "cell_type": "code",
   "execution_count": 77,
   "metadata": {},
   "outputs": [
    {
     "data": {
      "text/plain": [
       "MinMaxScaler(copy=True, feature_range=(0, 1))"
      ]
     },
     "execution_count": 77,
     "metadata": {},
     "output_type": "execute_result"
    }
   ],
   "source": [
    "# checking we loaded the scaler correctly\n",
    "scaler_model"
   ]
  },
  {
   "cell_type": "code",
   "execution_count": 73,
   "metadata": {},
   "outputs": [
    {
     "name": "stdout",
     "output_type": "stream",
     "text": [
      "86.25% Accuracy\n"
     ]
    }
   ],
   "source": [
    "# Ensuring the loaded model is fine \n",
    "print(\"{0:.2f}% Accuracy\".format(100*(y_test == loaded_model.predict(X_test)).mean()))"
   ]
  },
  {
   "cell_type": "code",
   "execution_count": null,
   "metadata": {},
   "outputs": [],
   "source": [
    "# Exporting the clean features csv \n",
    "features.to_csv(path_or_buf  = r'/Users/surohittandon/Desktop/WebApp/clean_features.csv',index=False)"
   ]
  }
 ],
 "metadata": {
  "kernelspec": {
   "display_name": "Python 3",
   "language": "python",
   "name": "python3"
  },
  "language_info": {
   "codemirror_mode": {
    "name": "ipython",
    "version": 3
   },
   "file_extension": ".py",
   "mimetype": "text/x-python",
   "name": "python",
   "nbconvert_exporter": "python",
   "pygments_lexer": "ipython3",
   "version": "3.7.3"
  }
 },
 "nbformat": 4,
 "nbformat_minor": 2
}
